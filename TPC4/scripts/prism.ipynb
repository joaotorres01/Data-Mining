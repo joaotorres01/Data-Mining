{
 "cells": [
  {
   "cell_type": "code",
   "execution_count": 1,
   "id": "234408af-69a7-4723-8856-8e3b76a63da1",
   "metadata": {},
   "outputs": [],
   "source": [
    "import os, sys\n",
    "import pandas as pd\n",
    "from sklearn.model_selection import train_test_split\n",
    "from sklearn.metrics import accuracy_score\n",
    "sys.path.insert(0, os.path.abspath(\"..\"))\n",
    "from src.Dataset import Dataset\n",
    "from src.Prism import Prism"
   ]
  },
  {
   "cell_type": "code",
   "execution_count": 2,
   "id": "735e36b5-d97d-47fb-9ad2-09b59fb51bfe",
   "metadata": {},
   "outputs": [
    {
     "data": {
      "text/plain": [
       "<src.Dataset.Dataset at 0x160be7c67f0>"
      ]
     },
     "execution_count": 2,
     "metadata": {},
     "output_type": "execute_result"
    }
   ],
   "source": [
    "dataset = Dataset()\n",
    "dataset.read_csv('../datasets/tennis.csv', 'Play Tennis')"
   ]
  },
  {
   "cell_type": "code",
   "execution_count": 3,
   "id": "37b13d8a-0bb5-46bd-914c-a51ca0f3cb27",
   "metadata": {},
   "outputs": [
    {
     "name": "stdout",
     "output_type": "stream",
     "text": [
      "[['Overcast' 'Hot' 'Normal' 'Weak']\n",
      " ['Overcast' 'Mild' 'High' 'Strong']\n",
      " ['Sunny' 'Mild' 'Normal' 'Strong']\n",
      " ['Rain' 'Mild' 'Normal' 'Weak']\n",
      " ['Sunny' 'Cool' 'Normal' 'Weak']\n",
      " ['Overcast' 'Cool' 'Normal' 'Strong']\n",
      " ['Rain' 'Cool' 'Normal' 'Weak']\n",
      " ['Rain' 'Mild' 'High' 'Weak']\n",
      " ['Overcast' 'Hot' 'High' 'Weak']\n",
      " ['Rain' 'Cool' 'Normal' 'Strong']\n",
      " ['Sunny' 'Hot' 'High' 'Strong']\n",
      " ['Sunny' 'Hot' 'High' 'Weak']\n",
      " ['Rain' 'Mild' 'High' 'Strong']\n",
      " ['Sunny' 'Mild' 'High' 'Weak']]\n"
     ]
    }
   ],
   "source": [
    "print(dataset.X)"
   ]
  },
  {
   "cell_type": "code",
   "execution_count": 4,
   "id": "a7e6ed67-71d5-4864-98a8-4cd6063b53dd",
   "metadata": {},
   "outputs": [
    {
     "name": "stdout",
     "output_type": "stream",
     "text": [
      "['Yes' 'Yes' 'Yes' 'Yes' 'Yes' 'Yes' 'Yes' 'Yes' 'Yes' 'No' 'No' 'No' 'No'\n",
      " 'No']\n"
     ]
    }
   ],
   "source": [
    "print(dataset.y)"
   ]
  },
  {
   "cell_type": "code",
   "execution_count": 5,
   "id": "79dfbd14-2bff-4ec2-bf32-564864a3f116",
   "metadata": {},
   "outputs": [
    {
     "name": "stdout",
     "output_type": "stream",
     "text": [
      "Rule for Yes class: <src.Prism.Prism object at 0x00000160BE7C60A0>\n"
     ]
    }
   ],
   "source": [
    "#Repeat 3 for each class in the target variable.\n",
    "target_class = \"Yes\"\n",
    "rule = Prism(target_class)\n",
    "print(f\"Rule for {target_class} class: {rule}\")"
   ]
  },
  {
   "cell_type": "code",
   "execution_count": 6,
   "id": "ac4b8ff9-22d0-4717-8176-47e6737c369f",
   "metadata": {},
   "outputs": [
    {
     "name": "stdout",
     "output_type": "stream",
     "text": [
      "Rule for No class: 2 == '0'\n",
      "Rule for Yes class: 2 == '1'\n"
     ]
    }
   ],
   "source": [
    "import numpy as np\n",
    "\n",
    "#4: Repeat 3 for each class in the target variable.\n",
    "unique_classes = np.unique(dataset.y)\n",
    "\n",
    "# Loop over the unique classes\n",
    "for target_class in unique_classes:\n",
    "    p = Prism(target_class=target_class)\n",
    "    p.fit(dataset.X, dataset.y)\n",
    "    rule = p.get_rule()\n",
    "    print(f\"Rule for {target_class} class: {rule}\")"
   ]
  },
  {
   "cell_type": "code",
   "execution_count": null,
   "id": "adfa37d7-6dbb-4f86-9315-37e832002565",
   "metadata": {},
   "outputs": [],
   "source": []
  }
 ],
 "metadata": {
  "kernelspec": {
   "display_name": "Python 3 (ipykernel)",
   "language": "python",
   "name": "python3"
  },
  "language_info": {
   "codemirror_mode": {
    "name": "ipython",
    "version": 3
   },
   "file_extension": ".py",
   "mimetype": "text/x-python",
   "name": "python",
   "nbconvert_exporter": "python",
   "pygments_lexer": "ipython3",
   "version": "3.9.7"
  }
 },
 "nbformat": 4,
 "nbformat_minor": 5
}
