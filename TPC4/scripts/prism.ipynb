{
 "cells": [
  {
   "cell_type": "code",
   "execution_count": 1,
   "id": "234408af-69a7-4723-8856-8e3b76a63da1",
   "metadata": {},
   "outputs": [
    {
     "ename": "ModuleNotFoundError",
     "evalue": "No module named 'pandas'",
     "output_type": "error",
     "traceback": [
      "\u001b[0;31m---------------------------------------------------------------------------\u001b[0m",
      "\u001b[0;31mModuleNotFoundError\u001b[0m                       Traceback (most recent call last)",
      "Cell \u001b[0;32mIn[1], line 2\u001b[0m\n\u001b[1;32m      1\u001b[0m \u001b[38;5;28;01mimport\u001b[39;00m \u001b[38;5;21;01mos\u001b[39;00m\u001b[38;5;241m,\u001b[39m \u001b[38;5;21;01msys\u001b[39;00m\n\u001b[0;32m----> 2\u001b[0m \u001b[38;5;28;01mimport\u001b[39;00m \u001b[38;5;21;01mpandas\u001b[39;00m \u001b[38;5;28;01mas\u001b[39;00m \u001b[38;5;21;01mpd\u001b[39;00m\n\u001b[1;32m      3\u001b[0m \u001b[38;5;28;01mfrom\u001b[39;00m \u001b[38;5;21;01msklearn\u001b[39;00m\u001b[38;5;21;01m.\u001b[39;00m\u001b[38;5;21;01mmodel_selection\u001b[39;00m \u001b[38;5;28;01mimport\u001b[39;00m train_test_split\n\u001b[1;32m      4\u001b[0m \u001b[38;5;28;01mfrom\u001b[39;00m \u001b[38;5;21;01msklearn\u001b[39;00m\u001b[38;5;21;01m.\u001b[39;00m\u001b[38;5;21;01mmetrics\u001b[39;00m \u001b[38;5;28;01mimport\u001b[39;00m accuracy_score\n",
      "\u001b[0;31mModuleNotFoundError\u001b[0m: No module named 'pandas'"
     ]
    }
   ],
   "source": [
    "import os, sys\n",
    "import pandas as pd\n",
    "from sklearn.model_selection import train_test_split\n",
    "from sklearn.metrics import accuracy_score\n",
    "sys.path.insert(0, os.path.abspath(\"..\"))\n",
    "from src.Dataset import Dataset\n",
    "from src.Prism import Prism"
   ]
  },
  {
   "cell_type": "code",
   "execution_count": null,
   "id": "735e36b5-d97d-47fb-9ad2-09b59fb51bfe",
   "metadata": {},
   "outputs": [],
   "source": [
    "dataset = Dataset()\n",
    "dataset.read_csv('../datasets/tennis.csv', 'Play Tennis')\n",
    "pr = Prism()"
   ]
  },
  {
   "cell_type": "code",
   "execution_count": null,
   "id": "37b13d8a-0bb5-46bd-914c-a51ca0f3cb27",
   "metadata": {},
   "outputs": [],
   "source": [
    "print(dataset.X)"
   ]
  },
  {
   "cell_type": "code",
   "execution_count": null,
   "id": "a7e6ed67-71d5-4864-98a8-4cd6063b53dd",
   "metadata": {},
   "outputs": [],
   "source": [
    "print(dataset.y)"
   ]
  },
  {
   "cell_type": "code",
   "execution_count": null,
   "id": "79dfbd14-2bff-4ec2-bf32-564864a3f116",
   "metadata": {},
   "outputs": [],
   "source": [
    "#Repeat 3 for each class in the target variable.\n",
    "target_class = \"Yes\"\n",
    "rule = prim(X, y, target_class)\n",
    "print(f\"Rule for {target_class} class: {rule}\")"
   ]
  },
  {
   "cell_type": "code",
   "execution_count": null,
   "id": "ac4b8ff9-22d0-4717-8176-47e6737c369f",
   "metadata": {},
   "outputs": [],
   "source": [
    "#4: Repeat 3 for each class in the target variable.\n",
    "for target_class in y.unique():\n",
    "    p = Prism(target_class=target_class)\n",
    "    p.fit(X, y)\n",
    "    rule = p.get_rule()\n",
    "    print(f\"Rule for {target_class} class: {rule}\")"
   ]
  }
 ],
 "metadata": {
  "kernelspec": {
   "display_name": "Python 3 (ipykernel)",
   "language": "python",
   "name": "python3"
  },
  "language_info": {
   "codemirror_mode": {
    "name": "ipython",
    "version": 3
   },
   "file_extension": ".py",
   "mimetype": "text/x-python",
   "name": "python",
   "nbconvert_exporter": "python",
   "pygments_lexer": "ipython3",
   "version": "3.9.16"
  }
 },
 "nbformat": 4,
 "nbformat_minor": 5
}
