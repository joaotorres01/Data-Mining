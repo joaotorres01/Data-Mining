{
 "cells": [
  {
   "cell_type": "code",
   "execution_count": 1,
   "id": "5e22f291-ff16-4018-8135-82a60d3df660",
   "metadata": {},
   "outputs": [],
   "source": [
    "import os, sys\n",
    "import pandas as pd\n",
    "from sklearn.model_selection import train_test_split\n",
    "from sklearn.metrics import accuracy_score\n",
    "sys.path.insert(0, os.path.abspath(\"..\"))\n",
    "from src.Dataset import Dataset\n",
    "from src.NaiveBayesClassifier import NaiveBayesClassifier"
   ]
  },
  {
   "cell_type": "code",
   "execution_count": 2,
   "id": "be8a1606-a2d9-4063-af16-f77b029cdbf3",
   "metadata": {},
   "outputs": [],
   "source": [
    "dataset = Dataset()\n",
    "dataset.read_csv('../datasets/tennis.csv', 'Play Tennis')\n",
    "nv = NaiveBayesClassifier()"
   ]
  },
  {
   "cell_type": "code",
   "execution_count": 3,
   "id": "5dea859a-c3b4-45cd-b518-589547f6a20d",
   "metadata": {},
   "outputs": [
    {
     "name": "stdout",
     "output_type": "stream",
     "text": [
      "[['Overcast' 'Hot' 'Normal' 'Weak']\n",
      " ['Overcast' 'Mild' 'High' 'Strong']\n",
      " ['Sunny' 'Mild' 'Normal' 'Strong']\n",
      " ['Rain' 'Mild' 'Normal' 'Weak']\n",
      " ['Sunny' 'Cool' 'Normal' 'Weak']\n",
      " ['Overcast' 'Cool' 'Normal' 'Strong']\n",
      " ['Rain' 'Cool' 'Normal' 'Weak']\n",
      " ['Rain' 'Mild' 'High' 'Weak']\n",
      " ['Overcast' 'Hot' 'High' 'Weak']\n",
      " ['Rain' 'Cool' 'Normal' 'Strong']\n",
      " ['Sunny' 'Hot' 'High' 'Strong']\n",
      " ['Sunny' 'Hot' 'High' 'Weak']\n",
      " ['Rain' 'Mild' 'High' 'Strong']\n",
      " ['Sunny' 'Mild' 'High' 'Weak']]\n"
     ]
    }
   ],
   "source": [
    "print(dataset.X)"
   ]
  },
  {
   "cell_type": "code",
   "execution_count": 4,
   "id": "e8441b57-2403-4d56-8e3b-f0724c3195f8",
   "metadata": {},
   "outputs": [
    {
     "name": "stdout",
     "output_type": "stream",
     "text": [
      "['Yes' 'Yes' 'Yes' 'Yes' 'Yes' 'Yes' 'Yes' 'Yes' 'Yes' 'No' 'No' 'No' 'No'\n",
      " 'No']\n"
     ]
    }
   ],
   "source": [
    "print(dataset.y)"
   ]
  },
  {
   "cell_type": "code",
   "execution_count": 5,
   "id": "9429c623-7efd-447b-ab5b-c14b5b84653b",
   "metadata": {},
   "outputs": [
    {
     "name": "stderr",
     "output_type": "stream",
     "text": [
      "C:\\Users\\Admin\\anaconda3\\lib\\site-packages\\sklearn\\preprocessing\\_encoders.py:808: FutureWarning: `sparse` was renamed to `sparse_output` in version 1.2 and will be removed in 1.4. `sparse_output` is ignored unless you leave `sparse` to its default value.\n",
      "  warnings.warn(\n"
     ]
    }
   ],
   "source": [
    "from sklearn.preprocessing import LabelEncoder, OneHotEncoder\n",
    "\n",
    "# First, use LabelEncoder to encode the categorical variables\n",
    "for i in range(dataset.X.shape[1]):\n",
    "    le = LabelEncoder()\n",
    "    dataset.X[:, i] = le.fit_transform(dataset.X[:, i])\n",
    "\n",
    "# Then, use OneHotEncoder to perform one-hot encoding\n",
    "ohe = OneHotEncoder(sparse_output=False)\n",
    "dataset.X = ohe.fit_transform(dataset.X)"
   ]
  },
  {
   "cell_type": "code",
   "execution_count": 6,
   "id": "e9dfb065-05ec-4cf4-8bc5-3e0784b0ca1a",
   "metadata": {},
   "outputs": [
    {
     "name": "stdout",
     "output_type": "stream",
     "text": [
      "[[1. 0. 0. 0. 1. 0. 0. 1. 0. 1.]\n",
      " [1. 0. 0. 0. 0. 1. 1. 0. 1. 0.]\n",
      " [0. 0. 1. 0. 0. 1. 0. 1. 1. 0.]\n",
      " [0. 1. 0. 0. 0. 1. 0. 1. 0. 1.]\n",
      " [0. 0. 1. 1. 0. 0. 0. 1. 0. 1.]\n",
      " [1. 0. 0. 1. 0. 0. 0. 1. 1. 0.]\n",
      " [0. 1. 0. 1. 0. 0. 0. 1. 0. 1.]\n",
      " [0. 1. 0. 0. 0. 1. 1. 0. 0. 1.]\n",
      " [1. 0. 0. 0. 1. 0. 1. 0. 0. 1.]\n",
      " [0. 1. 0. 1. 0. 0. 0. 1. 1. 0.]\n",
      " [0. 0. 1. 0. 1. 0. 1. 0. 1. 0.]\n",
      " [0. 0. 1. 0. 1. 0. 1. 0. 0. 1.]\n",
      " [0. 1. 0. 0. 0. 1. 1. 0. 1. 0.]\n",
      " [0. 0. 1. 0. 0. 1. 1. 0. 0. 1.]]\n"
     ]
    }
   ],
   "source": [
    "print(dataset.X)"
   ]
  },
  {
   "cell_type": "code",
   "execution_count": 7,
   "id": "dad0b759-2157-4fbc-be49-c8421a0bba0b",
   "metadata": {},
   "outputs": [],
   "source": [
    "X_train, X_test, y_train, y_test = train_test_split(dataset.X, dataset.y, test_size=0.3, random_state=0)"
   ]
  },
  {
   "cell_type": "code",
   "execution_count": 8,
   "id": "5dcb377a-a8c5-490f-b99e-0cea278486dc",
   "metadata": {},
   "outputs": [],
   "source": [
    "nv.fit(X_train, y_train)"
   ]
  },
  {
   "cell_type": "code",
   "execution_count": 9,
   "id": "47b94441-56be-48c0-a321-b4fa98b7cc59",
   "metadata": {},
   "outputs": [
    {
     "name": "stderr",
     "output_type": "stream",
     "text": [
      "C:\\Users\\Admin\\Desktop\\Uni\\4º ano\\2º Semestre\\Data-Mining\\TPC4\\src\\NaiveBayesClassifier.py:39: RuntimeWarning: divide by zero encountered in true_divide\n",
      "  numerator = np.exp(-((x-mean)**2)/(2*var))\n",
      "C:\\Users\\Admin\\Desktop\\Uni\\4º ano\\2º Semestre\\Data-Mining\\TPC4\\src\\NaiveBayesClassifier.py:41: RuntimeWarning: invalid value encountered in true_divide\n",
      "  return numerator / denominator\n",
      "C:\\Users\\Admin\\Desktop\\Uni\\4º ano\\2º Semestre\\Data-Mining\\TPC4\\src\\NaiveBayesClassifier.py:39: RuntimeWarning: invalid value encountered in true_divide\n",
      "  numerator = np.exp(-((x-mean)**2)/(2*var))\n"
     ]
    },
    {
     "data": {
      "text/plain": [
       "array(['No', 'No', 'No', 'No', 'No'], dtype=object)"
      ]
     },
     "execution_count": 9,
     "metadata": {},
     "output_type": "execute_result"
    }
   ],
   "source": [
    "nv.predict(X_test)"
   ]
  },
  {
   "cell_type": "code",
   "execution_count": null,
   "id": "128387b9-8b2a-4edc-8194-375c663dedfb",
   "metadata": {},
   "outputs": [],
   "source": []
  },
  {
   "cell_type": "code",
   "execution_count": null,
   "id": "d8903304-a75c-454f-818e-2eaef648bd50",
   "metadata": {},
   "outputs": [],
   "source": []
  }
 ],
 "metadata": {
  "kernelspec": {
   "display_name": "Python 3 (ipykernel)",
   "language": "python",
   "name": "python3"
  },
  "language_info": {
   "codemirror_mode": {
    "name": "ipython",
    "version": 3
   },
   "file_extension": ".py",
   "mimetype": "text/x-python",
   "name": "python",
   "nbconvert_exporter": "python",
   "pygments_lexer": "ipython3",
   "version": "3.9.7"
  }
 },
 "nbformat": 4,
 "nbformat_minor": 5
}
