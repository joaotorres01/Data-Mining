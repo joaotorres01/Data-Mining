{
 "cells": [
  {
   "cell_type": "markdown",
   "metadata": {},
   "source": [
    "# Ficha de trabalho 1\n",
    "1 - Considera o ficheiro **notas.csv** com a classificação de algumas disciplinas do curso de bioinformática.\n",
    "Importa os dados para um objeto do tipo pandas.DataFrame"
   ]
  },
  {
   "cell_type": "code",
   "execution_count": 21,
   "metadata": {},
   "outputs": [],
   "source": [
    "import pandas as pd\n",
    "import numpy as np\n",
    "\n",
    "df = pd.read_csv('notas.csv')"
   ]
  },
  {
   "cell_type": "markdown",
   "metadata": {},
   "source": [
    "2 - Ordena a informação pela ordem alfabética dos nomes."
   ]
  },
  {
   "cell_type": "code",
   "execution_count": 22,
   "metadata": {},
   "outputs": [
    {
     "name": "stdout",
     "output_type": "stream",
     "text": [
      "      Nome  Laboratórios   Alg. Avançados   Biologia Sistemas\n",
      "5   Carina          19.0             18.0                20.0\n",
      "1    Carla          17.0             16.0                 NaN\n",
      "7  Joaquim           NaN             15.0                12.0\n",
      "4     José          14.0             17.0                12.0\n",
      "0     João          12.0             16.0                17.0\n",
      "3    Pedro          16.0              NaN                18.0\n",
      "8  Ricardo          15.0             15.0                14.0\n",
      "2    Sónia           NaN             18.0                18.0\n",
      "6    Telma          16.0             14.0                12.0\n",
      "9    Vanda          16.0             15.0                18.0\n"
     ]
    }
   ],
   "source": [
    "df = df.sort_values('Nome')\n",
    "\n",
    "print(df)"
   ]
  },
  {
   "cell_type": "markdown",
   "metadata": {},
   "source": [
    "3 - Calcula a média de cada uma das disciplinas. "
   ]
  },
  {
   "cell_type": "code",
   "execution_count": 23,
   "metadata": {},
   "outputs": [
    {
     "data": {
      "text/html": [
       "<div>\n",
       "<style scoped>\n",
       "    .dataframe tbody tr th:only-of-type {\n",
       "        vertical-align: middle;\n",
       "    }\n",
       "\n",
       "    .dataframe tbody tr th {\n",
       "        vertical-align: top;\n",
       "    }\n",
       "\n",
       "    .dataframe thead th {\n",
       "        text-align: right;\n",
       "    }\n",
       "</style>\n",
       "<table border=\"1\" class=\"dataframe\">\n",
       "  <thead>\n",
       "    <tr style=\"text-align: right;\">\n",
       "      <th></th>\n",
       "      <th>Laboratórios</th>\n",
       "      <th>Alg. Avançados</th>\n",
       "      <th>Biologia Sistemas</th>\n",
       "    </tr>\n",
       "  </thead>\n",
       "  <tbody>\n",
       "    <tr>\n",
       "      <th>count</th>\n",
       "      <td>8.000000</td>\n",
       "      <td>9.000000</td>\n",
       "      <td>9.000000</td>\n",
       "    </tr>\n",
       "    <tr>\n",
       "      <th>mean</th>\n",
       "      <td>15.625000</td>\n",
       "      <td>16.000000</td>\n",
       "      <td>15.666667</td>\n",
       "    </tr>\n",
       "    <tr>\n",
       "      <th>std</th>\n",
       "      <td>2.065879</td>\n",
       "      <td>1.414214</td>\n",
       "      <td>3.162278</td>\n",
       "    </tr>\n",
       "    <tr>\n",
       "      <th>min</th>\n",
       "      <td>12.000000</td>\n",
       "      <td>14.000000</td>\n",
       "      <td>12.000000</td>\n",
       "    </tr>\n",
       "    <tr>\n",
       "      <th>25%</th>\n",
       "      <td>14.750000</td>\n",
       "      <td>15.000000</td>\n",
       "      <td>12.000000</td>\n",
       "    </tr>\n",
       "    <tr>\n",
       "      <th>50%</th>\n",
       "      <td>16.000000</td>\n",
       "      <td>16.000000</td>\n",
       "      <td>17.000000</td>\n",
       "    </tr>\n",
       "    <tr>\n",
       "      <th>75%</th>\n",
       "      <td>16.250000</td>\n",
       "      <td>17.000000</td>\n",
       "      <td>18.000000</td>\n",
       "    </tr>\n",
       "    <tr>\n",
       "      <th>max</th>\n",
       "      <td>19.000000</td>\n",
       "      <td>18.000000</td>\n",
       "      <td>20.000000</td>\n",
       "    </tr>\n",
       "  </tbody>\n",
       "</table>\n",
       "</div>"
      ],
      "text/plain": [
       "       Laboratórios   Alg. Avançados   Biologia Sistemas\n",
       "count      8.000000         9.000000            9.000000\n",
       "mean      15.625000        16.000000           15.666667\n",
       "std        2.065879         1.414214            3.162278\n",
       "min       12.000000        14.000000           12.000000\n",
       "25%       14.750000        15.000000           12.000000\n",
       "50%       16.000000        16.000000           17.000000\n",
       "75%       16.250000        17.000000           18.000000\n",
       "max       19.000000        18.000000           20.000000"
      ]
     },
     "execution_count": 23,
     "metadata": {},
     "output_type": "execute_result"
    }
   ],
   "source": [
    "df.describe()"
   ]
  },
  {
   "cell_type": "markdown",
   "metadata": {},
   "source": [
    "4 - Seleciona o nome dos alunos com classificação igual ou superior 16 na disciplina de Laboratórios."
   ]
  },
  {
   "cell_type": "code",
   "execution_count": 24,
   "metadata": {},
   "outputs": [
    {
     "data": {
      "text/plain": [
       "5    Carina\n",
       "1     Carla\n",
       "3     Pedro\n",
       "6     Telma\n",
       "9     Vanda\n",
       "Name: Nome, dtype: object"
      ]
     },
     "execution_count": 24,
     "metadata": {},
     "output_type": "execute_result"
    }
   ],
   "source": [
    "df.loc[df['Laboratórios'] >= 16, 'Nome']"
   ]
  },
  {
   "cell_type": "markdown",
   "metadata": {},
   "source": [
    "5 - Cria uma nova coluna com a média de cada um dos alunos nas 3 disciplinas."
   ]
  },
  {
   "cell_type": "code",
   "execution_count": 30,
   "metadata": {},
   "outputs": [
    {
     "name": "stdout",
     "output_type": "stream",
     "text": [
      "      Nome  Laboratórios   Alg. Avançados   Biologia Sistemas      Média\n",
      "5   Carina          19.0             18.0                20.0  19.000000\n",
      "1    Carla          17.0             16.0                 0.0  11.021484\n",
      "7  Joaquim           0.0             15.0                12.0   9.017578\n",
      "4     José          14.0             17.0                12.0  14.333333\n",
      "0     João          12.0             16.0                17.0  15.000000\n",
      "3    Pedro          16.0              0.0                18.0  11.355469\n",
      "8  Ricardo          15.0             15.0                14.0  14.666667\n",
      "2    Sónia           0.0             18.0                18.0  12.023438\n",
      "6    Telma          16.0             14.0                12.0  14.000000\n",
      "9    Vanda          16.0             15.0                18.0  16.333333\n"
     ]
    }
   ],
   "source": [
    "df.fillna(0, inplace = True)\n",
    "\n",
    "df_subjects = df.select_dtypes(include='number').columns\n",
    "df['Média'] = df[df_subjects].mean(axis=1)\n",
    "\n",
    "print(df)"
   ]
  },
  {
   "cell_type": "markdown",
   "metadata": {},
   "source": [
    "6 - Considera a seguinte informação adicional.\n",
    "```python\n",
    "Sexo = ['M','F','F','M','M','F','F','M','M','F']\n",
    "Idade = [23,21,25,21,22,23,21,20,27,21]\n",
    "```\n",
    "Constroi um novo DataFrame (df2) com a informação adicional dos alunos."
   ]
  },
  {
   "cell_type": "code",
   "execution_count": 100,
   "metadata": {},
   "outputs": [
    {
     "name": "stdout",
     "output_type": "stream",
     "text": [
      "      Nome  Laboratórios   Alg. Avançados   Biologia Sistemas Sexo  Idade\n",
      "0     João          12.0             16.0                17.0    M     23\n",
      "1    Carla          17.0             16.0                 0.0    F     21\n",
      "2    Sónia           0.0             18.0                18.0    F     25\n",
      "3    Pedro          16.0              0.0                18.0    M     21\n",
      "4     José          14.0             17.0                12.0    M     22\n",
      "5   Carina          19.0             18.0                20.0    F     23\n",
      "6    Telma          16.0             14.0                12.0    F     21\n",
      "7  Joaquim           0.0             15.0                12.0    M     20\n",
      "8  Ricardo          15.0             15.0                14.0    M     27\n",
      "9    Vanda          16.0             15.0                18.0    F     21\n"
     ]
    }
   ],
   "source": [
    "df2 = pd.read_csv('notas.csv')\n",
    "df2.fillna(0, inplace = True)\n",
    "\n",
    "sexo = ['M','F','F','M','M','F','F','M','M','F']\n",
    "idade = [23,21,25,21,22,23,21,20,27,21]\n",
    "\n",
    "df2.insert(loc = 4, column=\"Sexo\",value = sexo)\n",
    "df2.insert(loc = 5, column=\"Idade\",value = idade)\n",
    "\n",
    "print(df2)\n"
   ]
  },
  {
   "cell_type": "markdown",
   "metadata": {},
   "source": [
    "7 - Compila a informação presente nos dois DataFrames (df e df2) num único DataFrame. "
   ]
  },
  {
   "cell_type": "code",
   "execution_count": 101,
   "metadata": {},
   "outputs": [
    {
     "name": "stdout",
     "output_type": "stream",
     "text": [
      "      Nome  Laboratórios   Alg. Avançados_x   Biologia Sistemas_x      Média  \\\n",
      "0   Carina          19.0               18.0                  20.0  19.000000   \n",
      "1    Carla          17.0               16.0                   0.0  11.021484   \n",
      "2  Joaquim           0.0               15.0                  12.0   9.017578   \n",
      "3     José          14.0               17.0                  12.0  14.333333   \n",
      "4     João          12.0               16.0                  17.0  15.000000   \n",
      "5    Pedro          16.0                0.0                  18.0  11.355469   \n",
      "6  Ricardo          15.0               15.0                  14.0  14.666667   \n",
      "7    Sónia           0.0               18.0                  18.0  12.023438   \n",
      "8    Telma          16.0               14.0                  12.0  14.000000   \n",
      "9    Vanda          16.0               15.0                  18.0  16.333333   \n",
      "\n",
      "    Alg. Avançados_y   Biologia Sistemas_y Sexo  Idade  \n",
      "0               18.0                  20.0    F     23  \n",
      "1               16.0                   0.0    F     21  \n",
      "2               15.0                  12.0    M     20  \n",
      "3               17.0                  12.0    M     22  \n",
      "4               16.0                  17.0    M     23  \n",
      "5                0.0                  18.0    M     21  \n",
      "6               15.0                  14.0    M     27  \n",
      "7               18.0                  18.0    F     25  \n",
      "8               14.0                  12.0    F     21  \n",
      "9               15.0                  18.0    F     21  \n"
     ]
    }
   ],
   "source": [
    "df_merged = pd.merge(df,df2,on=['Nome', 'Laboratórios'])\n",
    "\n",
    "#df_merged = pd.merge(df, df2,  how='left', left_on=['Nome', 'Laboratórios'], right_on = ['Alg. Avançados', 'Biologia Sistemas'])\n",
    "\n",
    "print(df_merged)"
   ]
  },
  {
   "cell_type": "markdown",
   "metadata": {},
   "source": [
    "8 - A média da notas das raparigas é mais alta, em comparação com a dos rapazes, na disciplina de Biologia Sistemas?"
   ]
  },
  {
   "cell_type": "code",
   "execution_count": 102,
   "metadata": {},
   "outputs": [
    {
     "name": "stdout",
     "output_type": "stream",
     "text": [
      "Masculino:  14.6\n",
      "Feminino:  13.6\n",
      "Resposta: Não, Masculino:  14.6\n"
     ]
    }
   ],
   "source": [
    "dfM = df2.loc[df2['Sexo'] == 'M']\n",
    "dfF = df2.loc[df2['Sexo'] == 'F']\n",
    "\n",
    "mediaM = dfM[' Biologia Sistemas'].mean()\n",
    "mediaF = dfF[' Biologia Sistemas'].mean()\n",
    "\n",
    "print('Masculino: ', mediaM)\n",
    "print('Feminino: ', mediaF)\n",
    "\n",
    "if mediaM > mediaF:\n",
    "    print('Resposta: Não, Masculino: ', mediaM)\n",
    "else:\n",
    "    print('Resposta: Sim, Feminino: ', mediaF)\n",
    "\n"
   ]
  },
  {
   "cell_type": "markdown",
   "metadata": {},
   "source": [
    "9 - Remove do DataFrame os alunos que têm disciplinas em atraso. Coloca o resultado em df3. Os alunos com disciplinas em atraso têm valor omisso nessa coluna."
   ]
  },
  {
   "cell_type": "code",
   "execution_count": 103,
   "metadata": {},
   "outputs": [
    {
     "name": "stdout",
     "output_type": "stream",
     "text": [
      "      Nome  Laboratórios   Alg. Avançados   Biologia Sistemas\n",
      "0     João          12.0             16.0                17.0\n",
      "4     José          14.0             17.0                12.0\n",
      "5   Carina          19.0             18.0                20.0\n",
      "6    Telma          16.0             14.0                12.0\n",
      "8  Ricardo          15.0             15.0                14.0\n",
      "9    Vanda          16.0             15.0                18.0\n"
     ]
    }
   ],
   "source": [
    "df3 = pd.read_csv('notas.csv')\n",
    "df3 = df3.dropna(axis=0)\n",
    "\n",
    "print(df3)"
   ]
  },
  {
   "cell_type": "markdown",
   "metadata": {},
   "source": [
    "10 - Cria uma tabela pivot que apresente a média das notas de Laboratórios agrupada por idades para ambos os sexos."
   ]
  },
  {
   "cell_type": "code",
   "execution_count": 104,
   "metadata": {},
   "outputs": [
    {
     "data": {
      "text/html": [
       "<div>\n",
       "<style scoped>\n",
       "    .dataframe tbody tr th:only-of-type {\n",
       "        vertical-align: middle;\n",
       "    }\n",
       "\n",
       "    .dataframe tbody tr th {\n",
       "        vertical-align: top;\n",
       "    }\n",
       "\n",
       "    .dataframe thead th {\n",
       "        text-align: right;\n",
       "    }\n",
       "</style>\n",
       "<table border=\"1\" class=\"dataframe\">\n",
       "  <thead>\n",
       "    <tr style=\"text-align: right;\">\n",
       "      <th></th>\n",
       "      <th></th>\n",
       "      <th>Laboratórios</th>\n",
       "    </tr>\n",
       "    <tr>\n",
       "      <th>Sexo</th>\n",
       "      <th>Idade</th>\n",
       "      <th></th>\n",
       "    </tr>\n",
       "  </thead>\n",
       "  <tbody>\n",
       "    <tr>\n",
       "      <th rowspan=\"3\" valign=\"top\">F</th>\n",
       "      <th>21</th>\n",
       "      <td>16.333333</td>\n",
       "    </tr>\n",
       "    <tr>\n",
       "      <th>23</th>\n",
       "      <td>19.000000</td>\n",
       "    </tr>\n",
       "    <tr>\n",
       "      <th>25</th>\n",
       "      <td>0.000000</td>\n",
       "    </tr>\n",
       "    <tr>\n",
       "      <th rowspan=\"5\" valign=\"top\">M</th>\n",
       "      <th>20</th>\n",
       "      <td>0.000000</td>\n",
       "    </tr>\n",
       "    <tr>\n",
       "      <th>21</th>\n",
       "      <td>16.000000</td>\n",
       "    </tr>\n",
       "    <tr>\n",
       "      <th>22</th>\n",
       "      <td>14.000000</td>\n",
       "    </tr>\n",
       "    <tr>\n",
       "      <th>23</th>\n",
       "      <td>12.000000</td>\n",
       "    </tr>\n",
       "    <tr>\n",
       "      <th>27</th>\n",
       "      <td>15.000000</td>\n",
       "    </tr>\n",
       "  </tbody>\n",
       "</table>\n",
       "</div>"
      ],
      "text/plain": [
       "            Laboratórios\n",
       "Sexo Idade              \n",
       "F    21        16.333333\n",
       "     23        19.000000\n",
       "     25         0.000000\n",
       "M    20         0.000000\n",
       "     21        16.000000\n",
       "     22        14.000000\n",
       "     23        12.000000\n",
       "     27        15.000000"
      ]
     },
     "execution_count": 104,
     "metadata": {},
     "output_type": "execute_result"
    }
   ],
   "source": [
    "df_dropped = df2.drop([' Alg. Avançados', ' Biologia Sistemas'], axis=1)\n",
    "\n",
    "pd.pivot_table(df_dropped,index=[\"Sexo\",\"Idade\"])"
   ]
  },
  {
   "cell_type": "markdown",
   "metadata": {},
   "source": [
    "11 - Adiciona uma nova coluna que indique se o aluno tem bolsa de Mérito ou não. Para ter bolsa de Mérito o aluno não pode ter disciplinas em atraso e média tem que ser superior a 17 valores. Explora a função **apply**."
   ]
  },
  {
   "cell_type": "code",
   "execution_count": 105,
   "metadata": {},
   "outputs": [
    {
     "name": "stdout",
     "output_type": "stream",
     "text": [
      "      Nome  Laboratórios   Alg. Avançados   Biologia Sistemas Sexo  Idade  \\\n",
      "0     João          12.0             16.0                17.0    M     23   \n",
      "1    Carla          17.0             16.0                 0.0    F     21   \n",
      "2    Sónia           0.0             18.0                18.0    F     25   \n",
      "3    Pedro          16.0              0.0                18.0    M     21   \n",
      "4     José          14.0             17.0                12.0    M     22   \n",
      "5   Carina          19.0             18.0                20.0    F     23   \n",
      "6    Telma          16.0             14.0                12.0    F     21   \n",
      "7  Joaquim           0.0             15.0                12.0    M     20   \n",
      "8  Ricardo          15.0             15.0                14.0    M     27   \n",
      "9    Vanda          16.0             15.0                18.0    F     21   \n",
      "\n",
      "   Bolsa  \n",
      "0  False  \n",
      "1  False  \n",
      "2  False  \n",
      "3  False  \n",
      "4  False  \n",
      "5   True  \n",
      "6  False  \n",
      "7  False  \n",
      "8  False  \n",
      "9  False  \n"
     ]
    }
   ],
   "source": [
    "df2['Bolsa'] = df2.apply(lambda x: True if (x[' Biologia Sistemas'] + x[' Alg. Avançados'] + x['Laboratórios']) / 3 > 17 else False, axis=1)\n",
    "\n",
    "print(df2)"
   ]
  },
  {
   "cell_type": "code",
   "execution_count": null,
   "metadata": {},
   "outputs": [],
   "source": []
  }
 ],
 "metadata": {
  "anaconda-cloud": {},
  "kernelspec": {
   "display_name": "Python 3 (ipykernel)",
   "language": "python",
   "name": "python3"
  },
  "language_info": {
   "codemirror_mode": {
    "name": "ipython",
    "version": 3
   },
   "file_extension": ".py",
   "mimetype": "text/x-python",
   "name": "python",
   "nbconvert_exporter": "python",
   "pygments_lexer": "ipython3",
   "version": "3.9.7"
  }
 },
 "nbformat": 4,
 "nbformat_minor": 4
}
