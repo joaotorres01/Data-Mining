{
 "cells": [
  {
   "cell_type": "code",
   "execution_count": 1,
   "id": "dc2f6974-2b4a-4bcb-91e3-087da5704e6c",
   "metadata": {},
   "outputs": [],
   "source": [
    "import os, sys\n",
    "import pandas as pd\n",
    "from sklearn.model_selection import train_test_split\n",
    "from sklearn.metrics import accuracy_score\n",
    "sys.path.insert(0, os.path.abspath(\"..\"))\n",
    "from src.Dataset import Dataset\n",
    "from src.decisiontree import DecisionTree"
   ]
  },
  {
   "cell_type": "code",
   "execution_count": 2,
   "id": "058db998-e50f-4c86-996c-06c71d3af2a9",
   "metadata": {},
   "outputs": [
    {
     "name": "stdout",
     "output_type": "stream",
     "text": [
      "[0 1 1 0 0 1 1 1 1 0 0 1 0 1 0 1 0 0 0 1 0 0 1 0 0 1 0 0 0 1 0 0 0 0 0 0 0\n",
      " 0 1 0 0 1 0 0 1 0 0 0 0 0 1 1 0 1 0 0 0 1 1 0 0 1 1 0 0 0 1 1 0 0 1 1 0 1\n",
      " 0 1 0 1 0 1 1 0 0 1 0 1 1 1 0 0 0 0 1 0 0 0 1 1 0 1 1 0 1 1 0 0 0 1 1 0 1\n",
      " 0 0 1]\n"
     ]
    }
   ],
   "source": [
    "dt = DecisionTree(max_depth = 5, min_samples_split = 2, criterion='gini')\n",
    "dataset = Dataset()\n",
    "dataset.read_csv('../datasets/breast.csv', 'diagnosis')\n",
    "\n",
    "X_train, X_test, y_train, y_test = train_test_split(dataset.X, dataset.y, test_size=0.2, random_state=42)\n",
    "\n",
    "dt.fit(X_train, y_train)\n",
    "\n",
    "pred = dt.predict(X_test)\n",
    "\n",
    "print(pred)"
   ]
  },
  {
   "cell_type": "code",
   "execution_count": 3,
   "id": "0e8b546b-9dfb-4181-88a3-115a4076f457",
   "metadata": {},
   "outputs": [
    {
     "name": "stdout",
     "output_type": "stream",
     "text": [
      "Accuracy: 0.8947368421052632\n"
     ]
    }
   ],
   "source": [
    "accuracy = accuracy_score(y_test, pred)\n",
    "\n",
    "print('Accuracy:', accuracy)"
   ]
  },
  {
   "cell_type": "code",
   "execution_count": 4,
   "id": "6e1f2698-f71e-4650-8c44-75fe51eb289e",
   "metadata": {},
   "outputs": [
    {
     "name": "stdout",
     "output_type": "stream",
     "text": [
      "[ 0.79356602  0.78291414  0.77661384  0.77645378  0.74263553  0.73382503\n",
      "  0.73002851  0.70898384  0.69635971  0.65961021  0.59653368  0.59099824\n",
      "  0.56713382  0.5561407   0.54823594  0.45690282  0.42146486  0.41629431\n",
      "  0.4151853   0.40804233  0.35855997  0.33049855  0.32387219  0.29299924\n",
      "  0.25372977  0.07797242 -0.06701601 -0.0128376  -0.00830333 -0.00652176]\n"
     ]
    }
   ],
   "source": [
    "import numpy as np\n",
    "\n",
    "corr_matrix = np.corrcoef(dataset.X.T, dataset.y)\n",
    "\n",
    "feature_label_corr = corr_matrix[:-1,-1]\n",
    "\n",
    "sorted_corr = np.abs(feature_label_corr).argsort()[::-1]\n",
    "\n",
    "print(feature_label_corr[sorted_corr])"
   ]
  },
  {
   "cell_type": "code",
   "execution_count": null,
   "id": "4577645c-6b89-42bc-b0d5-519c608187fb",
   "metadata": {},
   "outputs": [],
   "source": []
  }
 ],
 "metadata": {
  "kernelspec": {
   "display_name": "Python 3 (ipykernel)",
   "language": "python",
   "name": "python3"
  },
  "language_info": {
   "codemirror_mode": {
    "name": "ipython",
    "version": 3
   },
   "file_extension": ".py",
   "mimetype": "text/x-python",
   "name": "python",
   "nbconvert_exporter": "python",
   "pygments_lexer": "ipython3",
   "version": "3.9.7"
  }
 },
 "nbformat": 4,
 "nbformat_minor": 5
}
