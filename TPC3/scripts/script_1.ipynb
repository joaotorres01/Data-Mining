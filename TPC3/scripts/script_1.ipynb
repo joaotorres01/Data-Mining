{
 "cells": [
  {
   "cell_type": "code",
   "execution_count": 1,
   "id": "dc2f6974-2b4a-4bcb-91e3-087da5704e6c",
   "metadata": {},
   "outputs": [],
   "source": [
    "import os, sys\n",
    "import pandas as pd\n",
    "sys.path.insert(0, os.path.abspath(\"..\"))\n",
    "from src.Dataset import Dataset\n",
    "from src.decisiontree import DecisionTree\n"
   ]
  },
  {
   "cell_type": "code",
   "execution_count": 2,
   "id": "058db998-e50f-4c86-996c-06c71d3af2a9",
   "metadata": {},
   "outputs": [
    {
     "name": "stdout",
     "output_type": "stream",
     "text": [
      "[5 5 5 ... 6 5 6]\n"
     ]
    }
   ],
   "source": [
    "dt = DecisionTree(5)\n",
    "dataset = Dataset()\n",
    "dataset.read_csv('../datasets/winequality-red.csv', 'quality')\n",
    "\n",
    "dt.fit(dataset.X , dataset.y)\n",
    "\n",
    "print(dt.predict(dataset.X))"
   ]
  },
  {
   "cell_type": "code",
   "execution_count": null,
   "id": "0e8b546b-9dfb-4181-88a3-115a4076f457",
   "metadata": {},
   "outputs": [],
   "source": []
  }
 ],
 "metadata": {
  "kernelspec": {
   "display_name": "Python 3 (ipykernel)",
   "language": "python",
   "name": "python3"
  },
  "language_info": {
   "codemirror_mode": {
    "name": "ipython",
    "version": 3
   },
   "file_extension": ".py",
   "mimetype": "text/x-python",
   "name": "python",
   "nbconvert_exporter": "python",
   "pygments_lexer": "ipython3",
   "version": "3.9.7"
  }
 },
 "nbformat": 4,
 "nbformat_minor": 5
}
