{
 "cells": [
  {
   "cell_type": "code",
   "execution_count": 1,
   "id": "dc2f6974-2b4a-4bcb-91e3-087da5704e6c",
   "metadata": {},
   "outputs": [],
   "source": [
    "import os, sys\n",
    "import pandas as pd\n",
    "from sklearn.model_selection import train_test_split\n",
    "from sklearn.metrics import accuracy_score\n",
    "sys.path.insert(0, os.path.abspath(\"..\"))\n",
    "from src.Dataset import Dataset\n",
    "from src.decisiontree import DecisionTree\n"
   ]
  },
  {
   "cell_type": "code",
   "execution_count": 2,
   "id": "058db998-e50f-4c86-996c-06c71d3af2a9",
   "metadata": {},
   "outputs": [
    {
     "name": "stdout",
     "output_type": "stream",
     "text": [
      "[5 5 6 5 6 5 5 5 6 5 7 5 6 6 6 7 6 6 7 5 5 6 6 6 5 6 6 6 5 6 6 5 6 6 5 6 6\n",
      " 6 5 7 5 5 6 5 6 6 6 6 5 5 5 5 6 7 5 5 6 6 6 5 6 6 6 6 7 5 6 5 7 5 6 6 6 6\n",
      " 6 5 6 6 6 7 5 7 6 5 6 7 5 6 6 6 7 5 6 5 6 6 5 6 6 5 5 5 6 6 6 6 6 5 6 6 6\n",
      " 5 5 5 6 5 6 5 5 6 6 5 6 6 6 5 7 5 5 6 6 5 5 6 5 5 5 5 5 6 6 6 6 6 6 5 6 6\n",
      " 6 5 5 6 5 5 6 6 5 6 5 6 7 6 7 5 6 6 6 6 5 5 5 5 7 5 7 5 6 5 5 5 5 7 5 6 5\n",
      " 7 6 6 7 5 6 5 6 6 6 5 5 6 6 6 6 5 6 6 7 6 5 6 6 7 7 5 5 7 6 6 5 6 6 5 5 6\n",
      " 6 6 4 5 6 7 5 5 6 5 7 6 5 6 5 6 6 5 6 5 6 6 5 7 6 6 6 5 5 5 5 5 6 5 6 7 5\n",
      " 6 7 6 5 7 6 6 6 5 6 6 5 6 6 6 6 5 6 7 7 6 7 5 5 5 5 7 5 6 5 6 5 7 6 5 5 6\n",
      " 6 7 6 6 5 5 6 6 6 6 6 6 6 7 6 5 6 5 6 6 5 5 6 5 6 7 6 5 7 5 7 6 5 6 6 7 5\n",
      " 6 6 6 6 6 6 6 7 7 6 5 6 5 6 6 5 5 6 6 6 6 5 6 5 5 5 5 6 5 5 6 5 6 6 5 5 6\n",
      " 6 5 6 6 5 7 6 7 5 6 5 7 6 5 5 6 6 5 6 5 5 5 5 6 6 6 6 5 5 6 5 5 6 5 6 6 7\n",
      " 6 5 5 6 7 5 6 6 6 6 7 5 7 6 5 6 6 6 5 5 5 6 6 7 5 6 5 7 5 5 6 5 6 6 6 6 6\n",
      " 6 5 5 5 6 5 6 6 7 5 6 6 7 6 5 5 5 5 5 6 6 5 6 6 6 6 7 5 6 6 5 6 6 6 7 6 6\n",
      " 6 6 5 6 6 7 6 5 5 6 5 5 5 7 6 6 5 5 5 5 5 5 6 6 5 5 6 6 7 6 6 5 4 5 7 5 6\n",
      " 6 6 6 5 6 7 7 7 4 5 5 6 5 6 5 6 6 5 5 5 6 6 5 6 7 5 6 6 6 6 6 5 6 6 6 5 5\n",
      " 6 5 6 6 5 5 5 6 5 6 5 6 5 5 6 7 5 7 6 6 5 6 7 5 5 5 5 6 7 5 7 6 5 5 5 6 5\n",
      " 6 5 5 6 6 6 5 6 5 5 6 6 4 6 6 5 6 6 7 6 5 6 6 6 7 6 5 6 5 5 5 6 5 6 5 5 6\n",
      " 6 6 6 5 5 6 5 5 5 5 6]\n"
     ]
    }
   ],
   "source": [
    "dt = DecisionTree(10, 2)\n",
    "dataset = Dataset()\n",
    "dataset.read_csv('../datasets/winequality-red.csv', 'quality')\n",
    "\n",
    "X_train, X_test, y_train, y_test = train_test_split(dataset.X, dataset.y, test_size=0.4, random_state=42)\n",
    "\n",
    "dt.fit(X_train, y_train)\n",
    "\n",
    "pred = dt.predict(X_test)\n",
    "\n",
    "print(pred)"
   ]
  },
  {
   "cell_type": "code",
   "execution_count": 3,
   "id": "0e8b546b-9dfb-4181-88a3-115a4076f457",
   "metadata": {},
   "outputs": [
    {
     "name": "stdout",
     "output_type": "stream",
     "text": [
      "Accuracy: 0.5625\n"
     ]
    }
   ],
   "source": [
    "accuracy = accuracy_score(y_test, pred)\n",
    "\n",
    "print('Accuracy:', accuracy)"
   ]
  },
  {
   "cell_type": "code",
   "execution_count": 6,
   "id": "6e1f2698-f71e-4650-8c44-75fe51eb289e",
   "metadata": {},
   "outputs": [
    {
     "name": "stdout",
     "output_type": "stream",
     "text": [
      "[ 0.47616632 -0.39055778  0.25139708  0.22637251 -0.18510029 -0.17491923\n",
      " -0.12890656  0.12405165 -0.05773139 -0.05065606  0.01373164]\n"
     ]
    }
   ],
   "source": [
    "import numpy as np\n",
    "\n",
    "corr_matrix = np.corrcoef(dataset.X.T, dataset.y.reshape(-1, 1))\n",
    "\n",
    "feature_label_corr = corr_matrix[:-1,-1]\n",
    "\n",
    "sorted_corr = np.abs(feature_label_corr).argsort()[::-1]\n",
    "\n",
    "print(feature_label_corr[sorted_corr])"
   ]
  },
  {
   "cell_type": "code",
   "execution_count": null,
   "id": "4577645c-6b89-42bc-b0d5-519c608187fb",
   "metadata": {},
   "outputs": [],
   "source": []
  }
 ],
 "metadata": {
  "kernelspec": {
   "display_name": "Python 3 (ipykernel)",
   "language": "python",
   "name": "python3"
  },
  "language_info": {
   "codemirror_mode": {
    "name": "ipython",
    "version": 3
   },
   "file_extension": ".py",
   "mimetype": "text/x-python",
   "name": "python",
   "nbconvert_exporter": "python",
   "pygments_lexer": "ipython3",
   "version": "3.9.7"
  }
 },
 "nbformat": 4,
 "nbformat_minor": 5
}
