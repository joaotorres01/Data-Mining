{
 "cells": [
  {
   "cell_type": "code",
   "execution_count": 1,
   "metadata": {},
   "outputs": [],
   "source": [
    "import os, sys\n",
    "import numpy as np\n",
    "sys.path.insert(0, os.path.abspath(\"..\"))\n",
    "from src.Dataset import Dataset\n",
    "from src.LinearRegression import LinearRegression"
   ]
  },
  {
   "cell_type": "code",
   "execution_count": 2,
   "metadata": {},
   "outputs": [
    {
     "name": "stdout",
     "output_type": "stream",
     "text": [
      "[[12.0, 16.0, 17.0], [17.0, 16.0, 14.0], [12.0, 18.0, 18.0], [16.0, 15.0, 18.0], [14.0, 17.0, 12.0], [19.0, 18.0, 20.0], [16.0, 14.0, 12.0], [13.0, 15.0, 12.0], [15.0, 15.0, 14.0], [16.0, 15.0, 18.0]]\n"
     ]
    }
   ],
   "source": [
    "dataset = Dataset()\n",
    "dataset.read_csv('../datasets/media2.csv', 'Média')\n",
    "print(dataset.X.tolist())"
   ]
  },
  {
   "cell_type": "code",
   "execution_count": 3,
   "metadata": {},
   "outputs": [
    {
     "data": {
      "text/plain": [
       "120.76620001666667"
      ]
     },
     "execution_count": 3,
     "metadata": {},
     "output_type": "execute_result"
    }
   ],
   "source": [
    "lnr_model = LinearRegression(dataset)\n",
    "lnr_model.costFunction()"
   ]
  },
  {
   "cell_type": "code",
   "execution_count": 4,
   "metadata": {},
   "outputs": [],
   "source": [
    "lnr_model.buildModel()"
   ]
  },
  {
   "cell_type": "code",
   "execution_count": 5,
   "metadata": {},
   "outputs": [
    {
     "name": "stdout",
     "output_type": "stream",
     "text": [
      "Cost function value for theta from analytical solution:\n",
      "1.2559270783164731e-08\n"
     ]
    }
   ],
   "source": [
    "print(\"Cost function value for theta from analytical solution:\")\n",
    "print(lnr_model.costFunction())"
   ]
  },
  {
   "cell_type": "code",
   "execution_count": 6,
   "metadata": {},
   "outputs": [
    {
     "name": "stdout",
     "output_type": "stream",
     "text": [
      "[-0.00112075  0.33336295  0.33339343  0.33331318]\n"
     ]
    }
   ],
   "source": [
    "lnr_model.printCoefs()"
   ]
  },
  {
   "cell_type": "code",
   "execution_count": 7,
   "metadata": {},
   "outputs": [
    {
     "name": "stdout",
     "output_type": "stream",
     "text": [
      "Gradient descent:\n",
      "120.76620001666667\n",
      "0.00015711742282688122\n",
      "7.582403027102164e-05\n",
      "3.842518689053697e-05\n",
      "2.0448431293481006e-05\n",
      "1.144350604396669e-05\n",
      "6.768387354877698e-06\n",
      "4.269876230983361e-06\n",
      "2.9046759774906852e-06\n",
      "2.146447123076776e-06\n"
     ]
    }
   ],
   "source": [
    "print(\"Gradient descent:\")\n",
    "lnr_model.gradientDescent()"
   ]
  },
  {
   "cell_type": "code",
   "execution_count": 8,
   "metadata": {},
   "outputs": [
    {
     "name": "stdout",
     "output_type": "stream",
     "text": [
      "Cost function value for theta from gradient descent:\n",
      "1.7203292539014732e-06\n"
     ]
    }
   ],
   "source": [
    "print(\"Cost function value for theta from gradient descent:\")\n",
    "print(lnr_model.costFunction())"
   ]
  },
  {
   "cell_type": "code",
   "execution_count": 9,
   "metadata": {},
   "outputs": [
    {
     "name": "stdout",
     "output_type": "stream",
     "text": [
      "Coefficients from gradient descent\n",
      "[0.02101978 0.3326518  0.33278015 0.33321237]\n"
     ]
    }
   ],
   "source": [
    "print(\"Coefficients from gradient descent\")\n",
    "lnr_model.printCoefs()"
   ]
  },
  {
   "cell_type": "code",
   "execution_count": 10,
   "metadata": {},
   "outputs": [
    {
     "name": "stdout",
     "output_type": "stream",
     "text": [
      "Prediction for example:\n",
      "13.335743906176416\n"
     ]
    }
   ],
   "source": [
    "ex = np.array([13.0,15.0,12.0])\n",
    "print(\"Prediction for example:\")    \n",
    "print(lnr_model.predict(ex))"
   ]
  }
 ],
 "metadata": {
  "kernelspec": {
   "display_name": "Python 3",
   "language": "python",
   "name": "python3"
  },
  "language_info": {
   "codemirror_mode": {
    "name": "ipython",
    "version": 3
   },
   "file_extension": ".py",
   "mimetype": "text/x-python",
   "name": "python",
   "nbconvert_exporter": "python",
   "pygments_lexer": "ipython3",
   "version": "3.11.2"
  },
  "orig_nbformat": 4
 },
 "nbformat": 4,
 "nbformat_minor": 2
}
