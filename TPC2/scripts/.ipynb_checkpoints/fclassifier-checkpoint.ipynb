{
 "cells": [
  {
   "cell_type": "code",
   "execution_count": 11,
   "id": "61384a56-fcb9-49e7-ad04-98df66e46699",
   "metadata": {},
   "outputs": [],
   "source": [
    "import os, sys\n",
    "sys.path.insert(0, os.path.abspath(\"..\"))\n",
    "from src.Dataset import Dataset\n",
    "from src.fClassifier import f_classif\n",
    "dataset = Dataset()\n",
    "dataset.read_csv('../datasets/winequality-red.csv', 'quality')\n",
    "dataset.fill_missing_values()\n",
    "\n",
    "fclassifier = f_classif(dataset)"
   ]
  },
  {
   "cell_type": "code",
   "execution_count": 12,
   "id": "32d68856-6e40-4e6d-86ef-1bf7a00a555e",
   "metadata": {},
   "outputs": [
    {
     "name": "stdout",
     "output_type": "stream",
     "text": [
      "[5 5 5 ... 6 5 6]\n"
     ]
    }
   ],
   "source": [
    "print(dataset.y)"
   ]
  },
  {
   "cell_type": "code",
   "execution_count": 13,
   "id": "49c54a5b-6ddb-4c6e-8696-20ccbb58e0b7",
   "metadata": {},
   "outputs": [
    {
     "name": "stdout",
     "output_type": "stream",
     "text": [
      "(array([  6.28308116,  60.91399283,  19.69066447,   1.05337358,\n",
      "         6.03563859,   4.7542331 ,  25.47850952,  13.3963569 ,\n",
      "         4.3417643 ,  22.27337609, 115.85479747]), array([8.79396662e-006, 3.32646506e-058, 4.42109157e-019, 3.84618775e-001,\n",
      "       1.52653902e-005, 2.57082723e-004, 8.53359845e-025, 8.12439474e-013,\n",
      "       6.28438870e-004, 1.22589009e-021, 1.20989516e-104]))\n"
     ]
    }
   ],
   "source": [
    "print(fclassifier)"
   ]
  },
  {
   "cell_type": "code",
   "execution_count": null,
   "id": "7cbd5e67-502d-4538-88cc-baa654ee5a9a",
   "metadata": {},
   "outputs": [],
   "source": []
  }
 ],
 "metadata": {
  "kernelspec": {
   "display_name": "Python 3 (ipykernel)",
   "language": "python",
   "name": "python3"
  },
  "language_info": {
   "codemirror_mode": {
    "name": "ipython",
    "version": 3
   },
   "file_extension": ".py",
   "mimetype": "text/x-python",
   "name": "python",
   "nbconvert_exporter": "python",
   "pygments_lexer": "ipython3",
   "version": "3.9.12"
  }
 },
 "nbformat": 4,
 "nbformat_minor": 5
}
