{
 "cells": [
  {
   "cell_type": "code",
   "execution_count": 1,
   "id": "26b8315c-c478-448a-b194-3fb5afc6359c",
   "metadata": {},
   "outputs": [],
   "source": [
    "import os, sys\n",
    "sys.path.insert(0, os.path.abspath(\"..\"))\n",
    "from src.Dataset import Dataset\n",
    "from src.fRegression import f_regress\n",
    "dataset = Dataset()\n",
    "dataset.read_csv('../datasets/media2.csv', 'Média')\n",
    "dataset.fill_missing_values()\n",
    "\n",
    "fregression = f_regress(dataset)"
   ]
  },
  {
   "cell_type": "code",
   "execution_count": 2,
   "id": "c1b00aee-0daa-47fa-b161-435625ea8b96",
   "metadata": {},
   "outputs": [
    {
     "name": "stdout",
     "output_type": "stream",
     "text": [
      "(array([ 4.34593068,  8.81455256, 36.42488406]), array([0.07059861, 0.01790034, 0.00031094]))\n"
     ]
    }
   ],
   "source": [
    "print(fregression)"
   ]
  },
  {
   "cell_type": "code",
   "execution_count": null,
   "id": "090974c2-78b6-4d28-bbf7-cfd887e2da93",
   "metadata": {},
   "outputs": [],
   "source": []
  }
 ],
 "metadata": {
  "kernelspec": {
   "display_name": "Python 3 (ipykernel)",
   "language": "python",
   "name": "python3"
  },
  "language_info": {
   "codemirror_mode": {
    "name": "ipython",
    "version": 3
   },
   "file_extension": ".py",
   "mimetype": "text/x-python",
   "name": "python",
   "nbconvert_exporter": "python",
   "pygments_lexer": "ipython3",
   "version": "3.9.12"
  }
 },
 "nbformat": 4,
 "nbformat_minor": 5
}
