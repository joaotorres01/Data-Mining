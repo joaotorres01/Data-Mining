{
 "cells": [
  {
   "cell_type": "code",
   "execution_count": 31,
   "id": "8d326332-474c-4249-882b-0a8b57d75241",
   "metadata": {},
   "outputs": [],
   "source": [
    "import os, sys\n",
    "sys.path.insert(0, os.path.abspath(\"..\"))\n",
    "from src.Dataset import Dataset\n",
    "from src.VarianceThreshold import VarianceThreshold\n",
    "dataset = Dataset()\n",
    "dataset.read_csv('../datasets/media2.csv', 'Média')\n",
    "dataset.fill_missing_values()\n",
    "var_threshold = VarianceThreshold(3)"
   ]
  },
  {
   "cell_type": "code",
   "execution_count": 32,
   "id": "a1580469-c9e6-4a4f-b56d-7d1f1365af24",
   "metadata": {},
   "outputs": [
    {
     "data": {
      "text/plain": [
       "array([[12.        , 16.        , 17.        ],\n",
       "       [17.        , 16.        , 15.66666667],\n",
       "       [15.625     , 18.        , 18.        ],\n",
       "       [16.        , 16.        , 18.        ],\n",
       "       [14.        , 17.        , 12.        ],\n",
       "       [19.        , 18.        , 20.        ],\n",
       "       [16.        , 14.        , 12.        ],\n",
       "       [15.625     , 15.        , 12.        ],\n",
       "       [15.        , 15.        , 14.        ],\n",
       "       [16.        , 15.        , 18.        ]])"
      ]
     },
     "execution_count": 32,
     "metadata": {},
     "output_type": "execute_result"
    }
   ],
   "source": [
    "dataset.X"
   ]
  },
  {
   "cell_type": "code",
   "execution_count": 33,
   "id": "ed66236e-f647-4f92-b575-170fb15c8553",
   "metadata": {},
   "outputs": [
    {
     "name": "stdout",
     "output_type": "stream",
     "text": [
      "Variance of 'Laboratórios': 2.9875\n",
      "Variance of ' Alg. Avançados': 1.6\n",
      "Variance of ' Biologia Sistemas': 7.999999999999998\n"
     ]
    },
    {
     "data": {
      "text/plain": [
       "{'Laboratórios': 2.9875,\n",
       " ' Alg. Avançados': 1.6,\n",
       " ' Biologia Sistemas': 7.999999999999998}"
      ]
     },
     "execution_count": 33,
     "metadata": {},
     "output_type": "execute_result"
    }
   ],
   "source": [
    "dataset.get_variance()"
   ]
  },
  {
   "cell_type": "code",
   "execution_count": 34,
   "id": "d5bb627a-116b-497d-908d-af588f0eb5a2",
   "metadata": {},
   "outputs": [
    {
     "name": "stdout",
     "output_type": "stream",
     "text": [
      "[' Biologia Sistemas']\n",
      "[[17.        ]\n",
      " [15.66666667]\n",
      " [18.        ]\n",
      " [18.        ]\n",
      " [12.        ]\n",
      " [20.        ]\n",
      " [12.        ]\n",
      " [12.        ]\n",
      " [14.        ]\n",
      " [18.        ]]\n"
     ]
    }
   ],
   "source": [
    "var_threshold.fit(dataset)\n",
    "transformed_dataset = var_threshold.transform(dataset)\n",
    "\n",
    "print(transformed_dataset.features)\n",
    "print(transformed_dataset.X)"
   ]
  },
  {
   "cell_type": "code",
   "execution_count": null,
   "id": "067aef29-708c-4f3d-857d-311dcc42af26",
   "metadata": {},
   "outputs": [],
   "source": []
  }
 ],
 "metadata": {
  "kernelspec": {
   "display_name": "Python 3 (ipykernel)",
   "language": "python",
   "name": "python3"
  },
  "language_info": {
   "codemirror_mode": {
    "name": "ipython",
    "version": 3
   },
   "file_extension": ".py",
   "mimetype": "text/x-python",
   "name": "python",
   "nbconvert_exporter": "python",
   "pygments_lexer": "ipython3",
   "version": "3.9.12"
  }
 },
 "nbformat": 4,
 "nbformat_minor": 5
}
