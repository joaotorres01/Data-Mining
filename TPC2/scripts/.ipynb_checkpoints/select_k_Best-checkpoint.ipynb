{
 "cells": [
  {
   "cell_type": "code",
   "execution_count": 1,
   "id": "f78d44e8-c801-4117-b6f5-741e59198ceb",
   "metadata": {},
   "outputs": [],
   "source": [
    "import os, sys\n",
    "sys.path.insert(0, os.path.abspath(\"..\"))\n",
    "from src.fRegression import f_regress\n",
    "from src.Dataset import Dataset\n",
    "from src.fClassifier import f_classif\n",
    "from src.select_k_Best import Select_K_Best\n",
    "dataset = Dataset()\n",
    "dataset.read_csv('../datasets/winequality-red.csv', 'quality')\n",
    "dataset2 = Dataset()\n",
    "dataset2.read_csv('../datasets/media2.csv', 'Média')\n",
    "dataset.fill_missing_values()\n",
    "dataset2.fill_missing_values()\n",
    "\n",
    "k_Best = Select_K_Best(score_func=f_classif, k=2)\n",
    "\n"
   ]
  },
  {
   "cell_type": "code",
   "execution_count": 2,
   "id": "dfd22fb2-3f08-40a4-8e56-e2f8cbe17ac3",
   "metadata": {},
   "outputs": [
    {
     "data": {
      "text/plain": [
       "['volatile acidity', 'alcohol']"
      ]
     },
     "execution_count": 2,
     "metadata": {},
     "output_type": "execute_result"
    }
   ],
   "source": [
    "k_best = Select_K_Best(score_func=f_classif, k=2)\n",
    "k_best.fit_transform(dataset).features"
   ]
  },
  {
   "cell_type": "code",
   "execution_count": 3,
   "id": "281dbd73-759f-45ad-9e9f-a3d13f2ac913",
   "metadata": {},
   "outputs": [
    {
     "data": {
      "text/plain": [
       "[' Alg. Avançados', ' Biologia Sistemas']"
      ]
     },
     "execution_count": 3,
     "metadata": {},
     "output_type": "execute_result"
    }
   ],
   "source": [
    "k_best2 = Select_K_Best(score_func=f_regress, k=2)\n",
    "k_best2.fit_transform(dataset2).features"
   ]
  },
  {
   "cell_type": "code",
   "execution_count": null,
   "id": "31b11265-6370-4949-b9a9-ed1850446f2c",
   "metadata": {},
   "outputs": [],
   "source": []
  },
  {
   "cell_type": "code",
   "execution_count": null,
   "id": "992657a8-80f0-4c68-a47e-d5adc23cc428",
   "metadata": {},
   "outputs": [],
   "source": [
    "    "
   ]
  }
 ],
 "metadata": {
  "kernelspec": {
   "display_name": "Python 3 (ipykernel)",
   "language": "python",
   "name": "python3"
  },
  "language_info": {
   "codemirror_mode": {
    "name": "ipython",
    "version": 3
   },
   "file_extension": ".py",
   "mimetype": "text/x-python",
   "name": "python",
   "nbconvert_exporter": "python",
   "pygments_lexer": "ipython3",
   "version": "3.9.12"
  }
 },
 "nbformat": 4,
 "nbformat_minor": 5
}
