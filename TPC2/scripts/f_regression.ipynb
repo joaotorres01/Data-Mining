{
 "cells": [
  {
   "cell_type": "code",
   "execution_count": 1,
   "id": "26b8315c-c478-448a-b194-3fb5afc6359c",
   "metadata": {},
   "outputs": [],
   "source": [
    "import os, sys\n",
    "sys.path.insert(0, os.path.abspath(\"..\"))\n",
    "from src.Dataset import Dataset\n",
    "from src.fRegression import f_Regression\n",
    "dataset = Dataset()\n",
    "dataset.read_csv('../datasets/media2.csv', 'Média')\n",
    "dataset.fill_missing_values()\n",
    "\n",
    "fregression = f_Regression(dataset)"
   ]
  },
  {
   "cell_type": "code",
   "execution_count": 4,
   "id": "c1b00aee-0daa-47fa-b161-435625ea8b96",
   "metadata": {},
   "outputs": [
    {
     "data": {
      "text/plain": [
       "array([[12.        , 16.        , 17.        ],\n",
       "       [17.        , 16.        , 15.66666667],\n",
       "       [15.625     , 18.        , 18.        ],\n",
       "       [16.        , 16.        , 18.        ],\n",
       "       [14.        , 17.        , 12.        ],\n",
       "       [19.        , 18.        , 20.        ],\n",
       "       [16.        , 14.        , 12.        ],\n",
       "       [15.625     , 15.        , 12.        ],\n",
       "       [15.        , 15.        , 14.        ],\n",
       "       [16.        , 15.        , 18.        ]])"
      ]
     },
     "execution_count": 4,
     "metadata": {},
     "output_type": "execute_result"
    }
   ],
   "source": [
    "dataset.X"
   ]
  },
  {
   "cell_type": "code",
   "execution_count": 5,
   "id": "119cd9c8-af17-429a-92f4-d8006a81240c",
   "metadata": {},
   "outputs": [
    {
     "name": "stdout",
     "output_type": "stream",
     "text": [
      "[0.07059861 0.01790034 0.00031094]\n"
     ]
    }
   ],
   "source": [
    "print(fregression.get_p_values())"
   ]
  },
  {
   "cell_type": "code",
   "execution_count": null,
   "id": "090974c2-78b6-4d28-bbf7-cfd887e2da93",
   "metadata": {},
   "outputs": [],
   "source": []
  }
 ],
 "metadata": {
  "kernelspec": {
   "display_name": "Python 3 (ipykernel)",
   "language": "python",
   "name": "python3"
  },
  "language_info": {
   "codemirror_mode": {
    "name": "ipython",
    "version": 3
   },
   "file_extension": ".py",
   "mimetype": "text/x-python",
   "name": "python",
   "nbconvert_exporter": "python",
   "pygments_lexer": "ipython3",
   "version": "3.9.7"
  }
 },
 "nbformat": 4,
 "nbformat_minor": 5
}
