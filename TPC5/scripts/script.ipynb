{
 "cells": [
  {
   "cell_type": "code",
   "execution_count": 1,
   "id": "2b97b491-44c1-41cb-8cb9-7e1d028ed7fa",
   "metadata": {},
   "outputs": [],
   "source": [
    "import os, sys\n",
    "import pandas as pd\n",
    "sys.path.insert(0, os.path.abspath(\"..\"))\n",
    "from src.Dataset import Dataset\n",
    "from src.Apriori import Apriori"
   ]
  },
  {
   "cell_type": "code",
   "execution_count": 18,
   "id": "950c824a-f680-440c-9423-ef453d4f90c8",
   "metadata": {},
   "outputs": [],
   "source": [
    "dataset = Dataset()\n",
    "dataset.read_csv('../datasets/tennis.csv', 'Play Tennis')\n",
    "ap = Apriori(min_support=0.1, min_confidence=0.5)"
   ]
  },
  {
   "cell_type": "code",
   "execution_count": 19,
   "id": "f979ff78-b973-4d6e-8038-c73b9b46bb03",
   "metadata": {},
   "outputs": [],
   "source": [
    "ap.fit(dataset.X)"
   ]
  },
  {
   "cell_type": "code",
   "execution_count": 20,
   "id": "92ed64ee-a31c-43d5-a6cc-38df764b661b",
   "metadata": {},
   "outputs": [
    {
     "name": "stdout",
     "output_type": "stream",
     "text": [
      "Frequent itemsets:\n",
      "k=1: [['Overcast'], ['Hot'], ['Normal'], ['Weak'], ['Mild'], ['High'], ['Strong'], ['Sunny'], ['Rain'], ['Cool']]\n",
      "k=2: [['Overcast', 'Hot'], ['Overcast', 'Normal'], ['Overcast', 'Weak'], ['Weak', 'Hot'], ['Normal', 'Weak'], ['High', 'Overcast'], ['Strong', 'Overcast'], ['Mild', 'High'], ['Mild', 'Strong'], ['Strong', 'High'], ['Mild', 'Sunny'], ['Normal', 'Sunny'], ['Strong', 'Sunny'], ['Mild', 'Normal'], ['Strong', 'Normal'], ['Mild', 'Rain'], ['Rain', 'Normal'], ['Rain', 'Weak'], ['Mild', 'Weak'], ['Sunny', 'Weak'], ['Cool', 'Normal'], ['Cool', 'Weak'], ['Strong', 'Cool'], ['Cool', 'Rain'], ['Rain', 'High'], ['High', 'Weak'], ['High', 'Hot'], ['Strong', 'Rain'], ['Sunny', 'Hot'], ['High', 'Sunny']]\n",
      "k=3: [['Weak', 'Overcast', 'Hot'], ['Mild', 'High', 'Strong'], ['Mild', 'Rain', 'Weak'], ['Rain', 'Normal', 'Weak'], ['Cool', 'Normal', 'Weak'], ['Strong', 'Cool', 'Normal'], ['Cool', 'Rain', 'Normal'], ['Mild', 'Rain', 'High'], ['Mild', 'High', 'Weak'], ['Weak', 'High', 'Hot'], ['High', 'Sunny', 'Hot'], ['High', 'Sunny', 'Weak']]\n"
     ]
    }
   ],
   "source": [
    "print(\"Frequent itemsets:\")\n",
    "for k, itemsets in ap.itemsets.items():\n",
    "    itemsets_list = [list(itemset) for itemset in itemsets]\n",
    "    print(f\"k={k}: {itemsets_list}\")"
   ]
  },
  {
   "cell_type": "code",
   "execution_count": 21,
   "id": "287bdbf7-4cc2-4105-8f29-e05f8975306d",
   "metadata": {},
   "outputs": [
    {
     "name": "stdout",
     "output_type": "stream",
     "text": [
      "\n",
      "Association rules:\n",
      "['Overcast'] => ['Hot'] (confidence=0.50)\n",
      "['Hot'] => ['Overcast'] (confidence=0.50)\n",
      "['Overcast'] => ['Normal'] (confidence=0.50)\n",
      "['Overcast'] => ['Weak'] (confidence=0.50)\n",
      "['Hot'] => ['Weak'] (confidence=0.75)\n",
      "['Normal'] => ['Weak'] (confidence=0.57)\n",
      "['Weak'] => ['Normal'] (confidence=0.50)\n",
      "['Overcast'] => ['High'] (confidence=0.50)\n",
      "['Overcast'] => ['Strong'] (confidence=0.50)\n",
      "['Mild'] => ['High'] (confidence=0.67)\n",
      "['High'] => ['Mild'] (confidence=0.57)\n",
      "['Mild'] => ['Strong'] (confidence=0.50)\n",
      "['Strong'] => ['Mild'] (confidence=0.50)\n",
      "['Strong'] => ['High'] (confidence=0.50)\n",
      "['Strong'] => ['Normal'] (confidence=0.50)\n",
      "['Mild'] => ['Rain'] (confidence=0.50)\n",
      "['Rain'] => ['Mild'] (confidence=0.60)\n",
      "['Rain'] => ['Normal'] (confidence=0.60)\n",
      "['Rain'] => ['Weak'] (confidence=0.60)\n",
      "['Mild'] => ['Weak'] (confidence=0.50)\n",
      "['Sunny'] => ['Weak'] (confidence=0.60)\n",
      "['Cool'] => ['Normal'] (confidence=1.00)\n",
      "['Normal'] => ['Cool'] (confidence=0.57)\n",
      "['Cool'] => ['Weak'] (confidence=0.50)\n",
      "['Cool'] => ['Strong'] (confidence=0.50)\n",
      "['Cool'] => ['Rain'] (confidence=0.50)\n",
      "['High'] => ['Weak'] (confidence=0.57)\n",
      "['Weak'] => ['High'] (confidence=0.50)\n",
      "['Hot'] => ['High'] (confidence=0.75)\n",
      "['Hot'] => ['Sunny'] (confidence=0.50)\n",
      "['Sunny'] => ['High'] (confidence=0.60)\n"
     ]
    }
   ],
   "source": [
    "print(\"\\nAssociation rules:\")\n",
    "for antecedent, consequent, confidence in ap.rules:\n",
    "    print(f\"{list(antecedent)} => {list(consequent)} (confidence={confidence:.2f})\")"
   ]
  },
  {
   "cell_type": "code",
   "execution_count": null,
   "id": "e1b85878-32ee-4ce5-95b9-6e70d77d5c02",
   "metadata": {},
   "outputs": [],
   "source": []
  }
 ],
 "metadata": {
  "kernelspec": {
   "display_name": "Python 3 (ipykernel)",
   "language": "python",
   "name": "python3"
  },
  "language_info": {
   "codemirror_mode": {
    "name": "ipython",
    "version": 3
   },
   "file_extension": ".py",
   "mimetype": "text/x-python",
   "name": "python",
   "nbconvert_exporter": "python",
   "pygments_lexer": "ipython3",
   "version": "3.9.7"
  }
 },
 "nbformat": 4,
 "nbformat_minor": 5
}
