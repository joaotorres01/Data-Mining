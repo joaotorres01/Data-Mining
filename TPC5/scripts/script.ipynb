{
 "cells": [
  {
   "cell_type": "code",
   "execution_count": 1,
   "id": "2b97b491-44c1-41cb-8cb9-7e1d028ed7fa",
   "metadata": {},
   "outputs": [],
   "source": [
    "import os, sys\n",
    "import pandas as pd\n",
    "sys.path.insert(0, os.path.abspath(\"..\"))\n",
    "from src.Dataset import Dataset\n",
    "from src.Apriori import TransactionDataset\n",
    "from src.Apriori import Apriori\n",
    "from src.Apriori import AssociationRules"
   ]
  },
  {
   "cell_type": "code",
   "execution_count": 2,
   "id": "950c824a-f680-440c-9423-ef453d4f90c8",
   "metadata": {},
   "outputs": [
    {
     "name": "stdout",
     "output_type": "stream",
     "text": [
      "[['Overcast', 'Hot', 'Normal', 'Weak'], ['Overcast', 'Mild', 'High', 'Strong'], ['Sunny', 'Mild', 'Normal', 'Strong'], ['Rain', 'Mild', 'Normal', 'Weak'], ['Sunny', 'Cool', 'Normal', 'Weak'], ['Overcast', 'Cool', 'Normal', 'Strong'], ['Rain', 'Cool', 'Normal', 'Weak'], ['Rain', 'Mild', 'High', 'Weak'], ['Overcast', 'Hot', 'High', 'Weak'], ['Rain', 'Cool', 'Normal', 'Strong'], ['Sunny', 'Hot', 'High', 'Strong'], ['Sunny', 'Hot', 'High', 'Weak'], ['Rain', 'Mild', 'High', 'Strong'], ['Sunny', 'Mild', 'High', 'Weak'], ['Rain', 'Hot', 'Normal', 'Weak'], ['Overcast', 'Cool', 'High', 'Strong'], ['Sunny', 'Cool', 'High', 'Strong'], ['Rain', 'Mild', 'High', 'Strong'], ['Sunny', 'Hot', 'Normal', 'Weak'], ['Overcast', 'Mild', 'High', 'Weak'], ['Rain', 'Hot', 'Normal', 'Strong'], ['Sunny', 'Mild', 'Normal', 'Weak'], ['Overcast', 'Hot', 'High', 'Strong'], ['Rain', 'Cool', 'High', 'Weak'], ['Sunny', 'Hot', 'Normal', 'Weak'], ['Rain', 'Mild', 'High', 'Strong'], ['Sunny', 'Hot', 'Normal', 'Strong'], ['Overcast', 'Cool', 'High', 'Strong'], ['Rain', 'Mild', 'Normal', 'Strong'], ['Sunny', 'Mild', 'High', 'Weak'], ['Overcast', 'Mild', 'Normal', 'Weak']]\n"
     ]
    }
   ],
   "source": [
    "dataset = Dataset()\n",
    "dataset.read_csv('../datasets/tennis.csv', 'Play Tennis')\n",
    "print(dataset.X.tolist())"
   ]
  },
  {
   "cell_type": "code",
   "execution_count": 3,
   "id": "217c5221",
   "metadata": {},
   "outputs": [],
   "source": [
    "t_dt = TransactionDataset(dataset.X)\n",
    "ap = Apriori(t_dt, min_support=0.3)\n",
    "association_rules = AssociationRules(ap, min_confidence=0.7)"
   ]
  },
  {
   "cell_type": "code",
   "execution_count": 4,
   "id": "f979ff78-b973-4d6e-8038-c73b9b46bb03",
   "metadata": {},
   "outputs": [
    {
     "name": "stdout",
     "output_type": "stream",
     "text": [
      "Frequent itemsets of size 1:\n",
      "frozenset({'Normal'}) (15/31)\n",
      "frozenset({'Mild'}) (13/31)\n",
      "frozenset({'Strong'}) (15/31)\n",
      "frozenset({'Weak'}) (16/31)\n",
      "frozenset({'Hot'}) (10/31)\n",
      "frozenset({'Sunny'}) (11/31)\n",
      "frozenset({'Rain'}) (11/31)\n",
      "frozenset({'High'}) (16/31)\n",
      "Frequent itemsets of size 2:\n"
     ]
    }
   ],
   "source": [
    "ap.print_frequent_itemsets()\n"
   ]
  },
  {
   "cell_type": "code",
   "execution_count": 5,
   "id": "e1b85878-32ee-4ce5-95b9-6e70d77d5c02",
   "metadata": {},
   "outputs": [],
   "source": [
    "association_rules.print_association_rules()"
   ]
  }
 ],
 "metadata": {
  "kernelspec": {
   "display_name": "Python 3 (ipykernel)",
   "language": "python",
   "name": "python3"
  },
  "language_info": {
   "codemirror_mode": {
    "name": "ipython",
    "version": 3
   },
   "file_extension": ".py",
   "mimetype": "text/x-python",
   "name": "python",
   "nbconvert_exporter": "python",
   "pygments_lexer": "ipython3",
   "version": "3.11.2"
  }
 },
 "nbformat": 4,
 "nbformat_minor": 5
}
