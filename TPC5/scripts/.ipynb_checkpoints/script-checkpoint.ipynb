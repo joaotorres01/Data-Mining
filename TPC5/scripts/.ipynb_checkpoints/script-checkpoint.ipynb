{
 "cells": [
  {
   "cell_type": "code",
   "execution_count": 1,
   "id": "2b97b491-44c1-41cb-8cb9-7e1d028ed7fa",
   "metadata": {},
   "outputs": [],
   "source": [
    "import os, sys\n",
    "import pandas as pd\n",
    "sys.path.insert(0, os.path.abspath(\"..\"))\n",
    "from src.Dataset import Dataset\n",
    "from src.Apriori import Apriori"
   ]
  },
  {
   "cell_type": "code",
   "execution_count": 8,
   "id": "950c824a-f680-440c-9423-ef453d4f90c8",
   "metadata": {},
   "outputs": [],
   "source": [
    "dataset = Dataset()\n",
    "dataset.read_csv('../datasets/tennis.csv', 'Play Tennis')\n",
    "ap = Apriori(min_support=0.1, min_confidence=0.8)"
   ]
  },
  {
   "cell_type": "code",
   "execution_count": 9,
   "id": "f979ff78-b973-4d6e-8038-c73b9b46bb03",
   "metadata": {},
   "outputs": [],
   "source": [
    "ap.fit(dataset.X)"
   ]
  },
  {
   "cell_type": "code",
   "execution_count": 10,
   "id": "92ed64ee-a31c-43d5-a6cc-38df764b661b",
   "metadata": {},
   "outputs": [
    {
     "name": "stdout",
     "output_type": "stream",
     "text": [
      "Frequent itemsets:\n",
      "k=1: [['Normal'], ['Weak'], ['Mild'], ['High'], ['Strong'], ['Sunny'], ['Rain']]\n"
     ]
    }
   ],
   "source": [
    "print(\"Frequent itemsets:\")\n",
    "for k, itemsets in ap.itemsets.items():\n",
    "    itemsets_list = [list(itemset) for itemset in itemsets]\n",
    "    print(f\"k={k}: {itemsets_list}\")"
   ]
  },
  {
   "cell_type": "code",
   "execution_count": 11,
   "id": "287bdbf7-4cc2-4105-8f29-e05f8975306d",
   "metadata": {},
   "outputs": [
    {
     "name": "stdout",
     "output_type": "stream",
     "text": [
      "\n",
      "Association rules:\n"
     ]
    }
   ],
   "source": [
    "print(\"\\nAssociation rules:\")\n",
    "for antecedent, consequent, confidence in ap.rules:\n",
    "    print(f\"{antecedent} => {consequent} (confidence={confidence:.2f})\")"
   ]
  },
  {
   "cell_type": "code",
   "execution_count": null,
   "id": "e1b85878-32ee-4ce5-95b9-6e70d77d5c02",
   "metadata": {},
   "outputs": [],
   "source": []
  }
 ],
 "metadata": {
  "kernelspec": {
   "display_name": "Python 3 (ipykernel)",
   "language": "python",
   "name": "python3"
  },
  "language_info": {
   "codemirror_mode": {
    "name": "ipython",
    "version": 3
   },
   "file_extension": ".py",
   "mimetype": "text/x-python",
   "name": "python",
   "nbconvert_exporter": "python",
   "pygments_lexer": "ipython3",
   "version": "3.9.7"
  }
 },
 "nbformat": 4,
 "nbformat_minor": 5
}
