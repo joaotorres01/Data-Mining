{
 "cells": [
  {
   "cell_type": "code",
   "execution_count": 1,
   "id": "f83cd2f6-0a76-4754-92d0-59a50ecfb681",
   "metadata": {},
   "outputs": [],
   "source": [
    "from Dataset import Dataset\n",
    "dataset = Dataset()"
   ]
  },
  {
   "cell_type": "code",
   "execution_count": 2,
   "id": "2db68816-48cb-446e-bd55-b72e3a39e2f9",
   "metadata": {},
   "outputs": [
    {
     "data": {
      "text/plain": [
       "<Dataset.Dataset at 0x20c9f1546d0>"
      ]
     },
     "execution_count": 2,
     "metadata": {},
     "output_type": "execute_result"
    }
   ],
   "source": [
    "dataset.read_csv(\"datasets/media.csv\")"
   ]
  },
  {
   "cell_type": "code",
   "execution_count": 3,
   "id": "a141f596-4189-4b47-a766-900980b166d4",
   "metadata": {},
   "outputs": [
    {
     "name": "stdout",
     "output_type": "stream",
     "text": [
      "Number of features: 4\n",
      "Number of instances: 10\n",
      "Names of the features : ['Nome', 'Laboratórios', ' Alg. Avançados', ' Biologia Sistemas']\n",
      "Name of the label: Média\n",
      "X:  [['João' 12.0 16.0 17.0]\n",
      " ['Carla' 17.0 16.0 nan]\n",
      " ['Sónia' nan 18.0 18.0]\n",
      " ['Pedro' 16.0 nan 18.0]\n",
      " ['José' 14.0 17.0 12.0]\n",
      " ['Carina' 19.0 18.0 20.0]\n",
      " ['Telma' 16.0 14.0 12.0]\n",
      " ['Joaquim' nan 15.0 12.0]\n",
      " ['Ricardo' 15.0 15.0 14.0]\n",
      " ['Vanda' 16.0 15.0 18.0]] \n",
      "\n",
      "y:  [15.         16.5        18.         17.         14.33333333 19.\n",
      " 14.         13.5        14.66666667 16.33333333] \n",
      "\n"
     ]
    }
   ],
   "source": [
    "dataset.summ()"
   ]
  },
  {
   "cell_type": "code",
   "execution_count": 4,
   "id": "a86ef8b6-d8e4-411d-a0da-91435f5e4797",
   "metadata": {},
   "outputs": [
    {
     "data": {
      "text/html": [
       "<div>\n",
       "<style scoped>\n",
       "    .dataframe tbody tr th:only-of-type {\n",
       "        vertical-align: middle;\n",
       "    }\n",
       "\n",
       "    .dataframe tbody tr th {\n",
       "        vertical-align: top;\n",
       "    }\n",
       "\n",
       "    .dataframe thead th {\n",
       "        text-align: right;\n",
       "    }\n",
       "</style>\n",
       "<table border=\"1\" class=\"dataframe\">\n",
       "  <thead>\n",
       "    <tr style=\"text-align: right;\">\n",
       "      <th></th>\n",
       "      <th>Nome</th>\n",
       "      <th>Laboratórios</th>\n",
       "      <th>Alg. Avançados</th>\n",
       "      <th>Biologia Sistemas</th>\n",
       "    </tr>\n",
       "  </thead>\n",
       "  <tbody>\n",
       "    <tr>\n",
       "      <th>count</th>\n",
       "      <td>10</td>\n",
       "      <td>8.0</td>\n",
       "      <td>9.0</td>\n",
       "      <td>9.0</td>\n",
       "    </tr>\n",
       "    <tr>\n",
       "      <th>unique</th>\n",
       "      <td>10</td>\n",
       "      <td>6.0</td>\n",
       "      <td>5.0</td>\n",
       "      <td>5.0</td>\n",
       "    </tr>\n",
       "    <tr>\n",
       "      <th>top</th>\n",
       "      <td>João</td>\n",
       "      <td>16.0</td>\n",
       "      <td>15.0</td>\n",
       "      <td>18.0</td>\n",
       "    </tr>\n",
       "    <tr>\n",
       "      <th>freq</th>\n",
       "      <td>1</td>\n",
       "      <td>3.0</td>\n",
       "      <td>3.0</td>\n",
       "      <td>3.0</td>\n",
       "    </tr>\n",
       "  </tbody>\n",
       "</table>\n",
       "</div>"
      ],
      "text/plain": [
       "        Nome  Laboratórios   Alg. Avançados   Biologia Sistemas\n",
       "count     10           8.0              9.0                 9.0\n",
       "unique    10           6.0              5.0                 5.0\n",
       "top     João          16.0             15.0                18.0\n",
       "freq       1           3.0              3.0                 3.0"
      ]
     },
     "execution_count": 4,
     "metadata": {},
     "output_type": "execute_result"
    }
   ],
   "source": [
    "dataset.describe()"
   ]
  },
  {
   "cell_type": "code",
   "execution_count": 5,
   "id": "76aa6cf8-64f6-450a-9bb9-11f54fcf3c9d",
   "metadata": {},
   "outputs": [
    {
     "data": {
      "text/plain": [
       "{'Nome': 0,\n",
       " 'Laboratórios': 2,\n",
       " ' Alg. Avançados': 1,\n",
       " ' Biologia Sistemas': 1,\n",
       " 'Média': 0}"
      ]
     },
     "execution_count": 5,
     "metadata": {},
     "output_type": "execute_result"
    }
   ],
   "source": [
    "dataset.nullcount()"
   ]
  },
  {
   "cell_type": "code",
   "execution_count": 6,
   "id": "107b019f-8a8d-49d7-9dbe-a51ab0d20dd2",
   "metadata": {},
   "outputs": [],
   "source": [
    "dataset.fill_missing_values()"
   ]
  },
  {
   "cell_type": "code",
   "execution_count": 7,
   "id": "6c3d742b-30fd-45fc-a21d-a47685655029",
   "metadata": {},
   "outputs": [
    {
     "data": {
      "text/plain": [
       "{'Nome': 0,\n",
       " 'Laboratórios': 0,\n",
       " ' Alg. Avançados': 0,\n",
       " ' Biologia Sistemas': 0,\n",
       " 'Média': 0}"
      ]
     },
     "execution_count": 7,
     "metadata": {},
     "output_type": "execute_result"
    }
   ],
   "source": [
    "dataset.nullcount()"
   ]
  },
  {
   "cell_type": "code",
   "execution_count": null,
   "id": "63acd9e2-712d-4c4a-aa35-3b18ec60ff94",
   "metadata": {},
   "outputs": [],
   "source": []
  }
 ],
 "metadata": {
  "kernelspec": {
   "display_name": "Python 3 (ipykernel)",
   "language": "python",
   "name": "python3"
  },
  "language_info": {
   "codemirror_mode": {
    "name": "ipython",
    "version": 3
   },
   "file_extension": ".py",
   "mimetype": "text/x-python",
   "name": "python",
   "nbconvert_exporter": "python",
   "pygments_lexer": "ipython3",
   "version": "3.9.7"
  }
 },
 "nbformat": 4,
 "nbformat_minor": 5
}
