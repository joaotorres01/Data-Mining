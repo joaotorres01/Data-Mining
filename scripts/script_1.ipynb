{
 "cells": [
  {
   "cell_type": "code",
   "execution_count": 2,
   "id": "f83cd2f6-0a76-4754-92d0-59a50ecfb681",
   "metadata": {},
   "outputs": [],
   "source": [
    "from Dataset import Dataset\n",
    "dataset = Dataset()"
   ]
  },
  {
   "cell_type": "code",
   "execution_count": 3,
   "id": "2db68816-48cb-446e-bd55-b72e3a39e2f9",
   "metadata": {},
   "outputs": [
    {
     "data": {
      "text/plain": [
       "<Dataset.Dataset at 0x2669b4bbca0>"
      ]
     },
     "execution_count": 3,
     "metadata": {},
     "output_type": "execute_result"
    }
   ],
   "source": [
    "dataset.read_csv('datasets/media2.csv', 'Média')"
   ]
  },
  {
   "cell_type": "code",
   "execution_count": 4,
   "id": "a141f596-4189-4b47-a766-900980b166d4",
   "metadata": {},
   "outputs": [
    {
     "name": "stdout",
     "output_type": "stream",
     "text": [
      "Number of features: 3\n",
      "Number of instances: 10\n",
      "Names of the features : ['Laboratórios', ' Alg. Avançados', ' Biologia Sistemas']\n",
      "Name of the label: Média\n",
      "X:  [[12. 16. 17.]\n",
      " [17. 16. nan]\n",
      " [nan 18. 18.]\n",
      " [16. nan 18.]\n",
      " [14. 17. 12.]\n",
      " [19. 18. 20.]\n",
      " [16. 14. 12.]\n",
      " [nan 15. 12.]\n",
      " [15. 15. 14.]\n",
      " [16. 15. 18.]] \n",
      "\n",
      "y:  [15.         16.5        18.         17.         14.33333333 19.\n",
      " 14.         13.5        14.66666667 16.33333333] \n",
      "\n"
     ]
    }
   ],
   "source": [
    "dataset.summ()"
   ]
  },
  {
   "cell_type": "code",
   "execution_count": 5,
   "id": "a86ef8b6-d8e4-411d-a0da-91435f5e4797",
   "metadata": {},
   "outputs": [
    {
     "data": {
      "text/html": [
       "<div>\n",
       "<style scoped>\n",
       "    .dataframe tbody tr th:only-of-type {\n",
       "        vertical-align: middle;\n",
       "    }\n",
       "\n",
       "    .dataframe tbody tr th {\n",
       "        vertical-align: top;\n",
       "    }\n",
       "\n",
       "    .dataframe thead th {\n",
       "        text-align: right;\n",
       "    }\n",
       "</style>\n",
       "<table border=\"1\" class=\"dataframe\">\n",
       "  <thead>\n",
       "    <tr style=\"text-align: right;\">\n",
       "      <th></th>\n",
       "      <th>Laboratórios</th>\n",
       "      <th>Alg. Avançados</th>\n",
       "      <th>Biologia Sistemas</th>\n",
       "    </tr>\n",
       "  </thead>\n",
       "  <tbody>\n",
       "    <tr>\n",
       "      <th>count</th>\n",
       "      <td>8.000000</td>\n",
       "      <td>9.000000</td>\n",
       "      <td>9.000000</td>\n",
       "    </tr>\n",
       "    <tr>\n",
       "      <th>mean</th>\n",
       "      <td>15.625000</td>\n",
       "      <td>16.000000</td>\n",
       "      <td>15.666667</td>\n",
       "    </tr>\n",
       "    <tr>\n",
       "      <th>std</th>\n",
       "      <td>2.065879</td>\n",
       "      <td>1.414214</td>\n",
       "      <td>3.162278</td>\n",
       "    </tr>\n",
       "    <tr>\n",
       "      <th>min</th>\n",
       "      <td>12.000000</td>\n",
       "      <td>14.000000</td>\n",
       "      <td>12.000000</td>\n",
       "    </tr>\n",
       "    <tr>\n",
       "      <th>25%</th>\n",
       "      <td>14.750000</td>\n",
       "      <td>15.000000</td>\n",
       "      <td>12.000000</td>\n",
       "    </tr>\n",
       "    <tr>\n",
       "      <th>50%</th>\n",
       "      <td>16.000000</td>\n",
       "      <td>16.000000</td>\n",
       "      <td>17.000000</td>\n",
       "    </tr>\n",
       "    <tr>\n",
       "      <th>75%</th>\n",
       "      <td>16.250000</td>\n",
       "      <td>17.000000</td>\n",
       "      <td>18.000000</td>\n",
       "    </tr>\n",
       "    <tr>\n",
       "      <th>max</th>\n",
       "      <td>19.000000</td>\n",
       "      <td>18.000000</td>\n",
       "      <td>20.000000</td>\n",
       "    </tr>\n",
       "  </tbody>\n",
       "</table>\n",
       "</div>"
      ],
      "text/plain": [
       "       Laboratórios   Alg. Avançados   Biologia Sistemas\n",
       "count      8.000000         9.000000            9.000000\n",
       "mean      15.625000        16.000000           15.666667\n",
       "std        2.065879         1.414214            3.162278\n",
       "min       12.000000        14.000000           12.000000\n",
       "25%       14.750000        15.000000           12.000000\n",
       "50%       16.000000        16.000000           17.000000\n",
       "75%       16.250000        17.000000           18.000000\n",
       "max       19.000000        18.000000           20.000000"
      ]
     },
     "execution_count": 5,
     "metadata": {},
     "output_type": "execute_result"
    }
   ],
   "source": [
    "dataset.describe()"
   ]
  },
  {
   "cell_type": "code",
   "execution_count": 6,
   "id": "76aa6cf8-64f6-450a-9bb9-11f54fcf3c9d",
   "metadata": {},
   "outputs": [
    {
     "data": {
      "text/plain": [
       "{'Laboratórios': 2, ' Alg. Avançados': 1, ' Biologia Sistemas': 1, 'Média': 0}"
      ]
     },
     "execution_count": 6,
     "metadata": {},
     "output_type": "execute_result"
    }
   ],
   "source": [
    "dataset.nullcount()"
   ]
  },
  {
   "cell_type": "code",
   "execution_count": 7,
   "id": "107b019f-8a8d-49d7-9dbe-a51ab0d20dd2",
   "metadata": {},
   "outputs": [],
   "source": [
    "dataset.fill_missing_values()"
   ]
  },
  {
   "cell_type": "code",
   "execution_count": 8,
   "id": "6c3d742b-30fd-45fc-a21d-a47685655029",
   "metadata": {},
   "outputs": [
    {
     "data": {
      "text/plain": [
       "{'Laboratórios': 0, ' Alg. Avançados': 0, ' Biologia Sistemas': 0, 'Média': 0}"
      ]
     },
     "execution_count": 8,
     "metadata": {},
     "output_type": "execute_result"
    }
   ],
   "source": [
    "dataset.nullcount()"
   ]
  },
  {
   "cell_type": "code",
   "execution_count": 9,
   "id": "63acd9e2-712d-4c4a-aa35-3b18ec60ff94",
   "metadata": {},
   "outputs": [
    {
     "name": "stdout",
     "output_type": "stream",
     "text": [
      "Média de 'Laboratórios': 15.625\n",
      "Média de ' Alg. Avançados': 16.0\n",
      "Média de ' Biologia Sistemas': 15.666666666666666\n"
     ]
    },
    {
     "data": {
      "text/plain": [
       "{'Laboratórios': 15.625,\n",
       " ' Alg. Avançados': 16.0,\n",
       " ' Biologia Sistemas': 15.666666666666666}"
      ]
     },
     "execution_count": 9,
     "metadata": {},
     "output_type": "execute_result"
    }
   ],
   "source": [
    "dataset.get_mean()"
   ]
  },
  {
   "cell_type": "code",
   "execution_count": 10,
   "id": "208197d4-14c0-4f83-b112-9feb714c40f4",
   "metadata": {},
   "outputs": [
    {
     "name": "stdout",
     "output_type": "stream",
     "text": [
      "Median of 'Laboratórios': 15.8125\n",
      "Median of ' Alg. Avançados': 16.0\n",
      "Median of ' Biologia Sistemas': 16.333333333333332\n"
     ]
    },
    {
     "data": {
      "text/plain": [
       "{'Laboratórios': 15.8125,\n",
       " ' Alg. Avançados': 16.0,\n",
       " ' Biologia Sistemas': 16.333333333333332}"
      ]
     },
     "execution_count": 10,
     "metadata": {},
     "output_type": "execute_result"
    }
   ],
   "source": [
    "dataset.get_median()"
   ]
  },
  {
   "cell_type": "code",
   "execution_count": 11,
   "id": "1d8c91d0-f11c-4bd3-8ae9-b3bcaf524ded",
   "metadata": {},
   "outputs": [
    {
     "name": "stdout",
     "output_type": "stream",
     "text": [
      "Variance of 'Laboratórios': 2.9875\n",
      "Variance of ' Alg. Avançados': 1.6\n",
      "Variance of ' Biologia Sistemas': 7.999999999999998\n"
     ]
    },
    {
     "data": {
      "text/plain": [
       "{'Laboratórios': 2.9875,\n",
       " ' Alg. Avançados': 1.6,\n",
       " ' Biologia Sistemas': 7.999999999999998}"
      ]
     },
     "execution_count": 11,
     "metadata": {},
     "output_type": "execute_result"
    }
   ],
   "source": [
    "dataset.get_variance()"
   ]
  },
  {
   "cell_type": "code",
   "execution_count": 12,
   "id": "cb7f5228-12d8-4588-b3b4-898d59109327",
   "metadata": {},
   "outputs": [
    {
     "name": "stdout",
     "output_type": "stream",
     "text": [
      "Minimum of 'Laboratórios': 12.0\n",
      "Minimum of ' Alg. Avançados': 14.0\n",
      "Minimum of ' Biologia Sistemas': 12.0\n"
     ]
    },
    {
     "data": {
      "text/plain": [
       "{'Laboratórios': 12.0, ' Alg. Avançados': 14.0, ' Biologia Sistemas': 12.0}"
      ]
     },
     "execution_count": 12,
     "metadata": {},
     "output_type": "execute_result"
    }
   ],
   "source": [
    "dataset.get_min()"
   ]
  },
  {
   "cell_type": "code",
   "execution_count": 13,
   "id": "15e98f7f-25a0-4d66-b4c8-ca50d97d9827",
   "metadata": {},
   "outputs": [
    {
     "name": "stdout",
     "output_type": "stream",
     "text": [
      "Maximum of 'Laboratórios': 19.0\n",
      "Maximum of ' Alg. Avançados': 18.0\n",
      "Maximum of ' Biologia Sistemas': 20.0\n"
     ]
    },
    {
     "data": {
      "text/plain": [
       "{'Laboratórios': 19.0, ' Alg. Avançados': 18.0, ' Biologia Sistemas': 20.0}"
      ]
     },
     "execution_count": 13,
     "metadata": {},
     "output_type": "execute_result"
    }
   ],
   "source": [
    "dataset.get_max()"
   ]
  },
  {
   "cell_type": "code",
   "execution_count": null,
   "id": "4adf83e5-1cb7-4dec-b416-53da2951e5f1",
   "metadata": {},
   "outputs": [],
   "source": []
  }
 ],
 "metadata": {
  "kernelspec": {
   "display_name": "Python 3 (ipykernel)",
   "language": "python",
   "name": "python3"
  },
  "language_info": {
   "codemirror_mode": {
    "name": "ipython",
    "version": 3
   },
   "file_extension": ".py",
   "mimetype": "text/x-python",
   "name": "python",
   "nbconvert_exporter": "python",
   "pygments_lexer": "ipython3",
   "version": "3.9.7"
  }
 },
 "nbformat": 4,
 "nbformat_minor": 5
}
